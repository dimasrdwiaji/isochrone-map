{
 "cells": [
  {
   "cell_type": "markdown",
   "id": "428563b5-cb7d-4dfe-b6d0-52a06b95f162",
   "metadata": {},
   "source": [
    "# Isochrone using HERE API"
   ]
  },
  {
   "cell_type": "markdown",
   "id": "fa4b4f2d",
   "metadata": {},
   "source": [
    "As a GIS analyst, I'm passionate about using data to solve real-world problems. One of the things that frustrates me most is traffic congestion. I've spent countless hours sitting in traffic on my commute to and from work, and I know that many other people share my pain.\n",
    "\n",
    "So, I decided to use my skills to create an isochrone map that would show me which areas of the city are within a reasonable commute time from my office, using my motorcycle as the transportation mode and avoiding toll roads. Isochrone map is a type of thematic map that shows the areas that can be reached within a certain amount of time or distance from a starting point. They are often used to plan transportation routes or to assess the accessibility of different areas. This makes it a valuable tool for planning, transportation, and urban planning. They can help to identify areas that are well-served by transportation, areas that are underserved by transportation, and areas that are within walking distance of essential services. In this project, I will use it to find out which areas are within 15, 30, and 60 minutes of travel time.\n",
    "\n",
    "The concept to calculate isochrone maps are something like this: \n",
    "- Let's say we have a starting point and its coordinate\n",
    "- Around the starting points, there are X number of road nodes\n",
    "- Analyze the route and calculate the duration it takes to reach from the starting point to each node\n",
    "\n",
    "To make the result closer to my commute, the following parameters are added:\n",
    "- Transport mode is motorcycle\n",
    "- Avoid any toll road\n",
    "- Heavy traffic\n",
    "- The travel times used are 15 minutes, 30 minutes, and 60 minutes.\n",
    "\n",
    "Fortunately, there are free isochrone providers that we can use. The closest one I can find that calculate the above parameters is from HERE Maps API. You can view the others and its comparison __[here](https://digital-geography.com/comparing-isochrone-apis-an-insight-into-different-providers/)__. "
   ]
  },
  {
   "cell_type": "markdown",
   "id": "2d6d75b3",
   "metadata": {},
   "source": [
    "## Import libraries"
   ]
  },
  {
   "cell_type": "code",
   "execution_count": 1,
   "id": "ccc261d0-931f-4644-923c-888ea251ad3f",
   "metadata": {},
   "outputs": [],
   "source": [
    "from here.platform import Platform\n",
    "from here.geopandas_adapter import GeoPandasAdapter\n",
    "import flexpolyline as fp\n",
    "import geopandas as gpd\n",
    "import folium\n",
    "from folium.plugins import Search\n",
    "from shapely.geometry import Polygon, mapping\n",
    "from shapely.ops import transform\n",
    "import json\n",
    "import os\n",
    "import time"
   ]
  },
  {
   "cell_type": "markdown",
   "id": "18bc04f8",
   "metadata": {},
   "source": [
    "## Preparing HERE API Services\n",
    "HERE API consists of multiple services. We will only use two of them:\n",
    "- The isoline service to get the isochrone.\n",
    "- The routing service to calculate the furthest achievable distance."
   ]
  },
  {
   "cell_type": "code",
   "execution_count": 2,
   "id": "19446069-dde9-43cc-913c-073b384d7b58",
   "metadata": {
    "tags": []
   },
   "outputs": [
    {
     "name": "stdout",
     "output_type": "stream",
     "text": [
      "HERE Isoline Routing (hrn:here:service::olp-here:routing-isoline-8)\n",
      "HERE Routing (hrn:here:service::olp-here:routing-8)\n"
     ]
    }
   ],
   "source": [
    "# Initialize Platform\n",
    "platform = Platform(adapter=GeoPandasAdapter())\n",
    "\n",
    "# Check to see if isoline services is available in our account\n",
    "services = platform.list_services()\n",
    "\n",
    "for service in services:\n",
    "    print(f\"{service.name} ({service.hrn})\")\n",
    "    \n",
    "services\n",
    "\n",
    "# Enable isochrone and routing services\n",
    "isoline = platform.get_service(\"hrn:here:service::olp-here:routing-isoline-8\")\n",
    "routing = platform.get_service('hrn:here:service::olp-here:routing-8')"
   ]
  },
  {
   "cell_type": "markdown",
   "id": "fefede00",
   "metadata": {},
   "source": [
    "## Getting the isochrone data\n",
    "To avoid exceeding the daily free limit of HERE API services, we will request the isochrone once and save it in JSON format for later use."
   ]
  },
  {
   "cell_type": "code",
   "execution_count": 3,
   "id": "039f904e-5c74-48a6-8d8e-875db0aff14e",
   "metadata": {},
   "outputs": [],
   "source": [
    "# Function to check whether isochrone data already exist or not. If not, hit the API. The function aims to save on the limited API usage\n",
    "\n",
    "def get_isochrone_data(isochrone_parameter):\n",
    "    # Check if isochrone data exist\n",
    "    if os.path.exists('isochrone_result.json'):\n",
    "        with open('isochrone_result.json', 'r') as f:\n",
    "            isochrone_data = json.load(f)\n",
    "            return isochrone_data\n",
    "    else:\n",
    "        # If it doesn't, hit API\n",
    "        isochrone_data = isoline.get('/isolines', params = isochrone_parameter)\n",
    "        \n",
    "        # Save the result to API\n",
    "        json_string = json.dumps(isochrone_data)\n",
    "        json_file = open('isochrone_result.json', 'w')\n",
    "        json_file.write(json_string)\n",
    "        json_file.close()\n",
    "        \n",
    "        # Return the API result\n",
    "        return isochrone_data"
   ]
  },
  {
   "cell_type": "markdown",
   "id": "cf7e7581",
   "metadata": {},
   "source": [
    "The isochrones will be calculated for Friday at 6:30 PM, the busiest rush hour in local area, and toll roads will be avoided. Since isochrones for motorcycles are not available, cars will be used instead."
   ]
  },
  {
   "cell_type": "code",
   "execution_count": 30,
   "id": "d459bd3a-dc3b-4c0e-a17d-c372f1747b1d",
   "metadata": {},
   "outputs": [],
   "source": [
    "# Origin point coordinate\n",
    "origin_point = (-6.2363373, 106.8010171)\n",
    "\n",
    "# Create isochrone parameter\n",
    "params = {\n",
    "    \"origin\": str(origin_point[0])+', '+str(origin_point[1]), # Origin coordinate\n",
    "    \"range[type]\": \"time\",\n",
    "    \"range[values]\": \"900,1800,3600\", # Time interval\n",
    "    \"transportMode\": \"car\",\n",
    "    \"optimizeFor\": \"quality\", \n",
    "    \"avoid[features]\": \"tollRoad\",\n",
    "    \"traffic[mode]\": \"default\", # Incorporate traffic data\n",
    "    \"departureTime\": \"2023-09-22T18:30:00\"\n",
    "}"
   ]
  },
  {
   "cell_type": "code",
   "execution_count": 5,
   "id": "2a1c25bb-ae27-4b41-b521-13f3fd0396c2",
   "metadata": {},
   "outputs": [],
   "source": [
    "# Run the function\n",
    "isochrone_data = get_isochrone_data(params)"
   ]
  },
  {
   "cell_type": "markdown",
   "id": "3f1e696b",
   "metadata": {},
   "source": [
    "HERE API uses flexible polyline encoding, a lossy compressed representation of a list of coordinate pairs or coordinate triples. To decode ir into coordinate pairs, we'll use the decoding library they provide."
   ]
  },
  {
   "cell_type": "code",
   "execution_count": 6,
   "id": "ef80ddea-5944-40a1-af87-d90c841e0a22",
   "metadata": {},
   "outputs": [],
   "source": [
    "# Decode the flexible polygon\n",
    "def decode_polygon(data):\n",
    "    for time_interval in data['isolines']:\n",
    "        time_interval['decoded_polygon'] = []\n",
    "        decode = fp.decode(time_interval['polygons'][0]['outer'])\n",
    "        time_interval['decoded_polygon'].append(decode)\n",
    "    return data"
   ]
  },
  {
   "cell_type": "code",
   "execution_count": 7,
   "id": "39f91781-9e81-460f-a1ed-d60fd4fa2c7b",
   "metadata": {},
   "outputs": [],
   "source": [
    "# Run decoding function\n",
    "decoded_isochrone = decode_polygon(isochrone_data)"
   ]
  },
  {
   "cell_type": "markdown",
   "id": "6e257758",
   "metadata": {},
   "source": [
    "Now that we have decoded coordinates and the isochrone data, we'll convert it to GeoDataFrame, for easier spatial analysis"
   ]
  },
  {
   "cell_type": "code",
   "execution_count": 34,
   "id": "62ad7d5f",
   "metadata": {},
   "outputs": [],
   "source": [
    "# Create geodataframes from the decoded isochrone polygon\n",
    "travel_time = [15, 30, 60]\n",
    "\n",
    "# Create polygon\n",
    "polygon_coord_list = []\n",
    "isochrone_id = ['15 Minutes', '30 Minutes', '60 Minutes']\n",
    "\n",
    "for i in decoded_isochrone['isolines']:\n",
    "    polygon_coord_list.append(\n",
    "        Polygon(i['decoded_polygon'][0])\n",
    "    )\n",
    "\n",
    "# Convert polygon to geodataframe\n",
    "gdf_isochrone = gpd.GeoDataFrame(\n",
    "    {\n",
    "        'isochrone_id': isochrone_id,\n",
    "        'travel_time_mins': travel_time,\n",
    "        'geometry': polygon_coord_list,\n",
    "    },\n",
    ")\n",
    "\n",
    "# Set the CRS/ datum/ projection of the isochrone data. Since the data is in longitude and latitude, we'll use EPSG 4326 or WGS'84\n",
    "gdf_isochrone = gdf_isochrone.set_crs(4326, allow_override=True)\n",
    "\n",
    "# Since our coordinates are in 'latitude, longitude' format, while geopandas expect the 'longitude, latitude', we'll reverse them\n",
    "gdf_isochrone['geometry'] = gpd.GeoSeries(gdf_isochrone['geometry']).map(lambda polygon: transform(lambda x, y: (y, x), polygon))\n",
    "\n",
    "# Clip overlapping areas\n",
    "gdf_isochrone['geometry'][2] = gdf_isochrone['geometry'][2].difference(gdf_isochrone['geometry'][1])\n",
    "gdf_isochrone['geometry'][1] = gdf_isochrone['geometry'][1].difference(gdf_isochrone['geometry'][0])\n"
   ]
  },
  {
   "cell_type": "markdown",
   "id": "49da27cb",
   "metadata": {},
   "source": [
    "In order to make each isochrone polygon doesn't overlap the others, let's remove the overlapping areas"
   ]
  },
  {
   "cell_type": "code",
   "execution_count": 9,
   "id": "cad17ba3",
   "metadata": {},
   "outputs": [
    {
     "data": {
      "text/plain": [
       "[(106.77372, -6.234741),\n",
       " (106.776123, -6.234741),\n",
       " (106.778183, -6.235428),\n",
       " (106.779556, -6.236801)]"
      ]
     },
     "execution_count": 9,
     "metadata": {},
     "output_type": "execute_result"
    }
   ],
   "source": [
    "exterior_coords_list = []\n",
    "\n",
    "for index, row in gdf_isochrone.iterrows():\n",
    "    ext_coord_row = (row['geometry']).exterior.coords[:-1]\n",
    "    exterior_coords_list.append(ext_coord_row)\n",
    "\n",
    "# View sample of exterior coordinates\n",
    "exterior_coords_list[0][:4]"
   ]
  },
  {
   "cell_type": "markdown",
   "id": "5299cb7f",
   "metadata": {},
   "source": [
    "To make the isochrone more informative, we could also find out what's the furthest distance and average speed of each isochrone duration. This would give us a better understanding of the potential travel times and distances within each isochrone."
   ]
  },
  {
   "cell_type": "code",
   "execution_count": 10,
   "id": "acdf31cf",
   "metadata": {},
   "outputs": [],
   "source": [
    "# Find the distance from origin point to outermost part of each isochrone duration\n",
    "travel_distance = []\n",
    "\n",
    "# For efficient API usage, we will store the travel distance data after API requests to JSON file\n",
    "# Check if travel distance data exist\n",
    "if os.path.exists('travel_distance.json'):\n",
    "     with open('travel_distance.json', 'r') as f:\n",
    "          travel_distance = json.load(f)\n",
    "\n",
    "else:\n",
    "        # If travel distance data doesn't exist, request data via API\n",
    "        for sublist in exterior_coords_list:\n",
    "            sublist_travel_distance = []\n",
    "            for coord_pair in sublist:\n",
    "                # Wait for one second before making the next request\n",
    "                time.sleep(1)\n",
    "\n",
    "                # Make request for the routing API\n",
    "                response = routing.get(\n",
    "                        '/routes',\n",
    "                        params={\n",
    "                            'transportMode': 'car',\n",
    "                            'origin': str(origin_point[0]) + ',' + str(origin_point[1]),\n",
    "                            'destination': str(coord_pair[0]) + ',' + str(coord_pair[1]),\n",
    "                            'departureTime': '2023-09-22T18:30:00',\n",
    "                            'avoid[features]': 'tollRoad',\n",
    "                            'units': 'metric',\n",
    "                            'return': 'summary',\n",
    "                            'traffic[mode]': 'default'\n",
    "                        })\n",
    "\n",
    "                # Get the length of each route\n",
    "                route_length = response['routes'][0]['sections'][0]['summary']['length']\n",
    "\n",
    "                # Add route length to each isochrone duration\n",
    "                sublist_travel_distance.append(route_length)\n",
    "\n",
    "            # Add all route length to travel_distance\n",
    "            travel_distance.append(sublist_travel_distance)\n",
    "        \n",
    "            # Save the result to API\n",
    "            json_string = json.dumps(travel_distance)\n",
    "            json_file = open('travel_distance.json', 'w')\n",
    "            json_file.write(json_string)\n",
    "            json_file.close()"
   ]
  },
  {
   "cell_type": "code",
   "execution_count": 11,
   "id": "70d0855c",
   "metadata": {},
   "outputs": [
    {
     "name": "stderr",
     "output_type": "stream",
     "text": [
      "<ipython-input-11-aac074e9a969>:14: SettingWithCopyWarning: \n",
      "A value is trying to be set on a copy of a slice from a DataFrame\n",
      "\n",
      "See the caveats in the documentation: https://pandas.pydata.org/pandas-docs/stable/user_guide/indexing.html#returning-a-view-versus-a-copy\n",
      "  gdf_isochrone['speed'][0] = gdf_isochrone['furthest_distance'][0]*4/1000\n"
     ]
    }
   ],
   "source": [
    "# Find the furthest distance and average speed of each isochrone duration\n",
    "# Furthest distance\n",
    "furthest_distance = []\n",
    "\n",
    "for sublist in travel_distance:\n",
    "    furthest_distance.append(max(sublist))\n",
    "\n",
    "furthest_distance\n",
    "\n",
    "gdf_isochrone['furthest_distance'] = furthest_distance\n",
    "\n",
    "# Average speed\n",
    "gdf_isochrone['speed'] = 0\n",
    "gdf_isochrone['speed'][0] = gdf_isochrone['furthest_distance'][0]*4/1000\n",
    "gdf_isochrone['speed'][1] = gdf_isochrone['furthest_distance'][1]*2/1000\n",
    "gdf_isochrone['speed'][2] = gdf_isochrone['furthest_distance'][2]/1000"
   ]
  },
  {
   "cell_type": "code",
   "execution_count": 12,
   "id": "42aa654e",
   "metadata": {},
   "outputs": [
    {
     "data": {
      "text/html": [
       "<div>\n",
       "<style scoped>\n",
       "    .dataframe tbody tr th:only-of-type {\n",
       "        vertical-align: middle;\n",
       "    }\n",
       "\n",
       "    .dataframe tbody tr th {\n",
       "        vertical-align: top;\n",
       "    }\n",
       "\n",
       "    .dataframe thead th {\n",
       "        text-align: right;\n",
       "    }\n",
       "</style>\n",
       "<table border=\"1\" class=\"dataframe\">\n",
       "  <thead>\n",
       "    <tr style=\"text-align: right;\">\n",
       "      <th></th>\n",
       "      <th>isochrone_id</th>\n",
       "      <th>travel_time_mins</th>\n",
       "      <th>geometry</th>\n",
       "      <th>furthest_distance</th>\n",
       "      <th>speed</th>\n",
       "    </tr>\n",
       "  </thead>\n",
       "  <tbody>\n",
       "    <tr>\n",
       "      <th>0</th>\n",
       "      <td>15 Minutes</td>\n",
       "      <td>15</td>\n",
       "      <td>POLYGON ((106.77372 -6.23474, 106.77612 -6.234...</td>\n",
       "      <td>8901</td>\n",
       "      <td>35.604</td>\n",
       "    </tr>\n",
       "    <tr>\n",
       "      <th>1</th>\n",
       "      <td>30 Minutes</td>\n",
       "      <td>30</td>\n",
       "      <td>POLYGON ((106.74866 -6.21551, 106.75072 -6.214...</td>\n",
       "      <td>19130</td>\n",
       "      <td>38.260</td>\n",
       "    </tr>\n",
       "    <tr>\n",
       "      <th>2</th>\n",
       "      <td>60 Minutes</td>\n",
       "      <td>60</td>\n",
       "      <td>POLYGON ((106.67107 -6.21208, 106.67244 -6.207...</td>\n",
       "      <td>33835</td>\n",
       "      <td>33.835</td>\n",
       "    </tr>\n",
       "  </tbody>\n",
       "</table>\n",
       "</div>"
      ],
      "text/plain": [
       "  isochrone_id  travel_time_mins  \\\n",
       "0   15 Minutes                15   \n",
       "1   30 Minutes                30   \n",
       "2   60 Minutes                60   \n",
       "\n",
       "                                            geometry  furthest_distance  \\\n",
       "0  POLYGON ((106.77372 -6.23474, 106.77612 -6.234...               8901   \n",
       "1  POLYGON ((106.74866 -6.21551, 106.75072 -6.214...              19130   \n",
       "2  POLYGON ((106.67107 -6.21208, 106.67244 -6.207...              33835   \n",
       "\n",
       "    speed  \n",
       "0  35.604  \n",
       "1  38.260  \n",
       "2  33.835  "
      ]
     },
     "execution_count": 12,
     "metadata": {},
     "output_type": "execute_result"
    }
   ],
   "source": [
    "gdf_isochrone.to_file('gdf_isochrone.geojson', driver='GeoJSON')\n",
    "gdf_isochrone"
   ]
  },
  {
   "cell_type": "markdown",
   "id": "52cf6a21",
   "metadata": {},
   "source": [
    "Now that we have all the data that we want, we can proceed to map the data. We'll use Geopandas to plot it. For the plot, let's make that we hover the polygon, it will be highlighted and shows a tooltip containing the travel time, furthest distance, and average speed"
   ]
  },
  {
   "cell_type": "code",
   "execution_count": 13,
   "id": "f47cf443",
   "metadata": {},
   "outputs": [
    {
     "name": "stderr",
     "output_type": "stream",
     "text": [
      "c:\\ProgramData\\Anaconda3\\envs\\geo_env\\lib\\site-packages\\mapclassify\\classifiers.py:511: NumbaDeprecationWarning: \u001b[1mThe 'nopython' keyword argument was not supplied to the 'numba.jit' decorator. The implicit default value for this argument is currently False, but it will be changed to True in Numba 0.59.0. See https://numba.readthedocs.io/en/stable/reference/deprecation.html#deprecation-of-object-mode-fall-back-behaviour-when-using-jit for details.\u001b[0m\n",
      "  def _fisher_jenks_means(values, classes=5, sort=True):\n"
     ]
    },
    {
     "data": {
      "text/html": [
       "<div style=\"width:100%;\"><div style=\"position:relative;width:100%;height:0;padding-bottom:60%;\"><span style=\"color:#565656\">Make this Notebook Trusted to load map: File -> Trust Notebook</span><iframe src=\"about:blank\" style=\"position:absolute;width:100%;height:100%;left:0;top:0;border:none !important;\" data-html=%3C%21DOCTYPE%20html%3E%0A%3Chead%3E%20%20%20%20%0A%20%20%20%20%3Cmeta%20http-equiv%3D%22content-type%22%20content%3D%22text/html%3B%20charset%3DUTF-8%22%20/%3E%0A%20%20%20%20%0A%20%20%20%20%20%20%20%20%3Cscript%3E%0A%20%20%20%20%20%20%20%20%20%20%20%20L_NO_TOUCH%20%3D%20false%3B%0A%20%20%20%20%20%20%20%20%20%20%20%20L_DISABLE_3D%20%3D%20false%3B%0A%20%20%20%20%20%20%20%20%3C/script%3E%0A%20%20%20%20%0A%20%20%20%20%3Cstyle%3Ehtml%2C%20body%20%7Bwidth%3A%20100%25%3Bheight%3A%20100%25%3Bmargin%3A%200%3Bpadding%3A%200%3B%7D%3C/style%3E%0A%20%20%20%20%3Cstyle%3E%23map%20%7Bposition%3Aabsolute%3Btop%3A0%3Bbottom%3A0%3Bright%3A0%3Bleft%3A0%3B%7D%3C/style%3E%0A%20%20%20%20%3Cscript%20src%3D%22https%3A//cdn.jsdelivr.net/npm/leaflet%401.6.0/dist/leaflet.js%22%3E%3C/script%3E%0A%20%20%20%20%3Cscript%20src%3D%22https%3A//code.jquery.com/jquery-1.12.4.min.js%22%3E%3C/script%3E%0A%20%20%20%20%3Cscript%20src%3D%22https%3A//maxcdn.bootstrapcdn.com/bootstrap/3.2.0/js/bootstrap.min.js%22%3E%3C/script%3E%0A%20%20%20%20%3Cscript%20src%3D%22https%3A//cdnjs.cloudflare.com/ajax/libs/Leaflet.awesome-markers/2.0.2/leaflet.awesome-markers.js%22%3E%3C/script%3E%0A%20%20%20%20%3Clink%20rel%3D%22stylesheet%22%20href%3D%22https%3A//cdn.jsdelivr.net/npm/leaflet%401.6.0/dist/leaflet.css%22/%3E%0A%20%20%20%20%3Clink%20rel%3D%22stylesheet%22%20href%3D%22https%3A//maxcdn.bootstrapcdn.com/bootstrap/3.2.0/css/bootstrap.min.css%22/%3E%0A%20%20%20%20%3Clink%20rel%3D%22stylesheet%22%20href%3D%22https%3A//maxcdn.bootstrapcdn.com/bootstrap/3.2.0/css/bootstrap-theme.min.css%22/%3E%0A%20%20%20%20%3Clink%20rel%3D%22stylesheet%22%20href%3D%22https%3A//maxcdn.bootstrapcdn.com/font-awesome/4.6.3/css/font-awesome.min.css%22/%3E%0A%20%20%20%20%3Clink%20rel%3D%22stylesheet%22%20href%3D%22https%3A//cdnjs.cloudflare.com/ajax/libs/Leaflet.awesome-markers/2.0.2/leaflet.awesome-markers.css%22/%3E%0A%20%20%20%20%3Clink%20rel%3D%22stylesheet%22%20href%3D%22https%3A//cdn.jsdelivr.net/gh/python-visualization/folium/folium/templates/leaflet.awesome.rotate.min.css%22/%3E%0A%20%20%20%20%0A%20%20%20%20%20%20%20%20%20%20%20%20%3Cmeta%20name%3D%22viewport%22%20content%3D%22width%3Ddevice-width%2C%0A%20%20%20%20%20%20%20%20%20%20%20%20%20%20%20%20initial-scale%3D1.0%2C%20maximum-scale%3D1.0%2C%20user-scalable%3Dno%22%20/%3E%0A%20%20%20%20%20%20%20%20%20%20%20%20%3Cstyle%3E%0A%20%20%20%20%20%20%20%20%20%20%20%20%20%20%20%20%23map_1d5ac0b9807a49539e5f8f85af0e1dcf%20%7B%0A%20%20%20%20%20%20%20%20%20%20%20%20%20%20%20%20%20%20%20%20position%3A%20relative%3B%0A%20%20%20%20%20%20%20%20%20%20%20%20%20%20%20%20%20%20%20%20width%3A%20100.0%25%3B%0A%20%20%20%20%20%20%20%20%20%20%20%20%20%20%20%20%20%20%20%20height%3A%20100.0%25%3B%0A%20%20%20%20%20%20%20%20%20%20%20%20%20%20%20%20%20%20%20%20left%3A%200.0%25%3B%0A%20%20%20%20%20%20%20%20%20%20%20%20%20%20%20%20%20%20%20%20top%3A%200.0%25%3B%0A%20%20%20%20%20%20%20%20%20%20%20%20%20%20%20%20%7D%0A%20%20%20%20%20%20%20%20%20%20%20%20%3C/style%3E%0A%20%20%20%20%20%20%20%20%0A%20%20%20%20%0A%20%20%20%20%20%20%20%20%20%20%20%20%20%20%20%20%20%20%20%20%3Cstyle%3E%0A%20%20%20%20%20%20%20%20%20%20%20%20%20%20%20%20%20%20%20%20%20%20%20%20.foliumtooltip%20%7B%0A%20%20%20%20%20%20%20%20%20%20%20%20%20%20%20%20%20%20%20%20%20%20%20%20%20%20%20%20%0A%20%20%20%20%20%20%20%20%20%20%20%20%20%20%20%20%20%20%20%20%20%20%20%20%7D%0A%20%20%20%20%20%20%20%20%20%20%20%20%20%20%20%20%20%20%20%20%20%20%20.foliumtooltip%20table%7B%0A%20%20%20%20%20%20%20%20%20%20%20%20%20%20%20%20%20%20%20%20%20%20%20%20%20%20%20%20margin%3A%20auto%3B%0A%20%20%20%20%20%20%20%20%20%20%20%20%20%20%20%20%20%20%20%20%20%20%20%20%7D%0A%20%20%20%20%20%20%20%20%20%20%20%20%20%20%20%20%20%20%20%20%20%20%20%20.foliumtooltip%20tr%7B%0A%20%20%20%20%20%20%20%20%20%20%20%20%20%20%20%20%20%20%20%20%20%20%20%20%20%20%20%20text-align%3A%20left%3B%0A%20%20%20%20%20%20%20%20%20%20%20%20%20%20%20%20%20%20%20%20%20%20%20%20%7D%0A%20%20%20%20%20%20%20%20%20%20%20%20%20%20%20%20%20%20%20%20%20%20%20%20.foliumtooltip%20th%7B%0A%20%20%20%20%20%20%20%20%20%20%20%20%20%20%20%20%20%20%20%20%20%20%20%20%20%20%20%20padding%3A%202px%3B%20padding-right%3A%208px%3B%0A%20%20%20%20%20%20%20%20%20%20%20%20%20%20%20%20%20%20%20%20%20%20%20%20%7D%0A%20%20%20%20%20%20%20%20%20%20%20%20%20%20%20%20%20%20%20%20%3C/style%3E%0A%20%20%20%20%20%20%20%20%20%20%20%20%0A%20%20%20%20%0A%20%20%20%20%3Cscript%20src%3D%22https%3A//code.jquery.com/ui/1.12.1/jquery-ui.js%22%3E%3C/script%3E%0A%20%20%20%20%3Cscript%3E%24%28%20function%28%29%20%7B%0A%20%20%20%20%20%20%20%20%24%28%20%22.maplegend%22%20%29.draggable%28%7B%0A%20%20%20%20%20%20%20%20%20%20%20%20start%3A%20function%20%28event%2C%20ui%29%20%7B%0A%20%20%20%20%20%20%20%20%20%20%20%20%20%20%20%20%24%28this%29.css%28%7B%0A%20%20%20%20%20%20%20%20%20%20%20%20%20%20%20%20%20%20%20%20right%3A%20%22auto%22%2C%0A%20%20%20%20%20%20%20%20%20%20%20%20%20%20%20%20%20%20%20%20top%3A%20%22auto%22%2C%0A%20%20%20%20%20%20%20%20%20%20%20%20%20%20%20%20%20%20%20%20bottom%3A%20%22auto%22%0A%20%20%20%20%20%20%20%20%20%20%20%20%20%20%20%20%7D%29%3B%0A%20%20%20%20%20%20%20%20%20%20%20%20%7D%0A%20%20%20%20%20%20%20%20%7D%29%3B%0A%20%20%20%20%7D%29%3B%0A%20%20%20%20%3C/script%3E%0A%20%20%20%20%3Cstyle%20type%3D%27text/css%27%3E%0A%20%20%20%20%20%20.maplegend%20%7B%0A%20%20%20%20%20%20%20%20position%3A%20absolute%3B%0A%20%20%20%20%20%20%20%20z-index%3A9999%3B%0A%20%20%20%20%20%20%20%20background-color%3A%20rgba%28255%2C%20255%2C%20255%2C%20.8%29%3B%0A%20%20%20%20%20%20%20%20border-radius%3A%205px%3B%0A%20%20%20%20%20%20%20%20box-shadow%3A%200%200%2015px%20rgba%280%2C0%2C0%2C0.2%29%3B%0A%20%20%20%20%20%20%20%20padding%3A%2010px%3B%0A%20%20%20%20%20%20%20%20font%3A%2012px/14px%20Arial%2C%20Helvetica%2C%20sans-serif%3B%0A%20%20%20%20%20%20%20%20right%3A%2010px%3B%0A%20%20%20%20%20%20%20%20bottom%3A%2020px%3B%0A%20%20%20%20%20%20%7D%0A%20%20%20%20%20%20.maplegend%20.legend-title%20%7B%0A%20%20%20%20%20%20%20%20text-align%3A%20left%3B%0A%20%20%20%20%20%20%20%20margin-bottom%3A%205px%3B%0A%20%20%20%20%20%20%20%20font-weight%3A%20bold%3B%0A%20%20%20%20%20%20%20%20%7D%0A%20%20%20%20%20%20.maplegend%20.legend-scale%20ul%20%7B%0A%20%20%20%20%20%20%20%20margin%3A%200%3B%0A%20%20%20%20%20%20%20%20margin-bottom%3A%200px%3B%0A%20%20%20%20%20%20%20%20padding%3A%200%3B%0A%20%20%20%20%20%20%20%20float%3A%20left%3B%0A%20%20%20%20%20%20%20%20list-style%3A%20none%3B%0A%20%20%20%20%20%20%20%20%7D%0A%20%20%20%20%20%20.maplegend%20.legend-scale%20ul%20li%20%7B%0A%20%20%20%20%20%20%20%20list-style%3A%20none%3B%0A%20%20%20%20%20%20%20%20margin-left%3A%200%3B%0A%20%20%20%20%20%20%20%20line-height%3A%2016px%3B%0A%20%20%20%20%20%20%20%20margin-bottom%3A%202px%3B%0A%20%20%20%20%20%20%20%20%7D%0A%20%20%20%20%20%20.maplegend%20ul.legend-labels%20li%20span%20%7B%0A%20%20%20%20%20%20%20%20display%3A%20block%3B%0A%20%20%20%20%20%20%20%20float%3A%20left%3B%0A%20%20%20%20%20%20%20%20height%3A%2014px%3B%0A%20%20%20%20%20%20%20%20width%3A%2014px%3B%0A%20%20%20%20%20%20%20%20margin-right%3A%205px%3B%0A%20%20%20%20%20%20%20%20margin-left%3A%200%3B%0A%20%20%20%20%20%20%20%20border%3A%200px%20solid%20%23ccc%3B%0A%20%20%20%20%20%20%20%20%7D%0A%20%20%20%20%20%20.maplegend%20.legend-source%20%7B%0A%20%20%20%20%20%20%20%20color%3A%20%23777%3B%0A%20%20%20%20%20%20%20%20clear%3A%20both%3B%0A%20%20%20%20%20%20%20%20%7D%0A%20%20%20%20%20%20.maplegend%20a%20%7B%0A%20%20%20%20%20%20%20%20color%3A%20%23777%3B%0A%20%20%20%20%20%20%20%20%7D%0A%20%20%20%20%3C/style%3E%0A%20%20%20%20%0A%3C/head%3E%0A%3Cbody%3E%20%20%20%20%0A%20%20%20%20%0A%20%20%20%20%3Cdiv%20id%3D%27maplegend%20Travel%20Time%27%20class%3D%27maplegend%27%3E%0A%20%20%20%20%20%20%20%20%3Cdiv%20class%3D%27legend-title%27%3ETravel%20Time%3C/div%3E%0A%20%20%20%20%20%20%20%20%3Cdiv%20class%3D%27legend-scale%27%3E%0A%20%20%20%20%20%20%20%20%20%20%20%20%3Cul%20class%3D%27legend-labels%27%3E%0A%20%20%20%20%20%20%20%20%20%20%20%20%20%20%20%20%3Cli%3E%3Cspan%20style%3D%27background%3A%23ffffcc%27%3E%3C/span%3E15%20Minutes%3C/li%3E%0A%20%20%20%20%20%20%20%20%20%20%20%20%20%20%20%20%3Cli%3E%3Cspan%20style%3D%27background%3A%23fd8d3c%27%3E%3C/span%3E30%20Minutes%3C/li%3E%0A%20%20%20%20%20%20%20%20%20%20%20%20%20%20%20%20%3Cli%3E%3Cspan%20style%3D%27background%3A%23800026%27%3E%3C/span%3E60%20Minutes%3C/li%3E%0A%20%20%20%20%20%20%20%20%20%20%20%20%3C/ul%3E%0A%20%20%20%20%20%20%20%20%3C/div%3E%0A%20%20%20%20%3C/div%3E%0A%20%20%20%20%0A%20%20%20%20%0A%20%20%20%20%20%20%20%20%20%20%20%20%3Cdiv%20class%3D%22folium-map%22%20id%3D%22map_1d5ac0b9807a49539e5f8f85af0e1dcf%22%20%3E%3C/div%3E%0A%20%20%20%20%20%20%20%20%0A%3C/body%3E%0A%3Cscript%3E%20%20%20%20%0A%20%20%20%20%0A%20%20%20%20%20%20%20%20%20%20%20%20var%20map_1d5ac0b9807a49539e5f8f85af0e1dcf%20%3D%20L.map%28%0A%20%20%20%20%20%20%20%20%20%20%20%20%20%20%20%20%22map_1d5ac0b9807a49539e5f8f85af0e1dcf%22%2C%0A%20%20%20%20%20%20%20%20%20%20%20%20%20%20%20%20%7B%0A%20%20%20%20%20%20%20%20%20%20%20%20%20%20%20%20%20%20%20%20center%3A%20%5B-6.2363373%2C%20106.8010171%5D%2C%0A%20%20%20%20%20%20%20%20%20%20%20%20%20%20%20%20%20%20%20%20crs%3A%20L.CRS.EPSG3857%2C%0A%20%20%20%20%20%20%20%20%20%20%20%20%20%20%20%20%20%20%20%20zoom%3A%2011%2C%0A%20%20%20%20%20%20%20%20%20%20%20%20%20%20%20%20%20%20%20%20zoomControl%3A%20true%2C%0A%20%20%20%20%20%20%20%20%20%20%20%20%20%20%20%20%20%20%20%20preferCanvas%3A%20false%2C%0A%20%20%20%20%20%20%20%20%20%20%20%20%20%20%20%20%7D%0A%20%20%20%20%20%20%20%20%20%20%20%20%29%3B%0A%0A%20%20%20%20%20%20%20%20%20%20%20%20%0A%0A%20%20%20%20%20%20%20%20%0A%20%20%20%20%0A%20%20%20%20%20%20%20%20%20%20%20%20var%20tile_layer_1d932ba0d8d24017a42d922bac4082b6%20%3D%20L.tileLayer%28%0A%20%20%20%20%20%20%20%20%20%20%20%20%20%20%20%20%22https%3A//%7Bs%7D.tile.openstreetmap.org/%7Bz%7D/%7Bx%7D/%7By%7D.png%22%2C%0A%20%20%20%20%20%20%20%20%20%20%20%20%20%20%20%20%7B%22attribution%22%3A%20%22Data%20by%20%5Cu0026copy%3B%20%5Cu003ca%20href%3D%5C%22http%3A//openstreetmap.org%5C%22%5Cu003eOpenStreetMap%5Cu003c/a%5Cu003e%2C%20under%20%5Cu003ca%20href%3D%5C%22http%3A//www.openstreetmap.org/copyright%5C%22%5Cu003eODbL%5Cu003c/a%5Cu003e.%22%2C%20%22detectRetina%22%3A%20false%2C%20%22maxNativeZoom%22%3A%2018%2C%20%22maxZoom%22%3A%2018%2C%20%22minZoom%22%3A%200%2C%20%22noWrap%22%3A%20false%2C%20%22opacity%22%3A%201%2C%20%22subdomains%22%3A%20%22abc%22%2C%20%22tms%22%3A%20false%7D%0A%20%20%20%20%20%20%20%20%20%20%20%20%29.addTo%28map_1d5ac0b9807a49539e5f8f85af0e1dcf%29%3B%0A%20%20%20%20%20%20%20%20%0A%20%20%20%20%0A%20%20%20%20%20%20%20%20%20%20%20%20var%20marker_f97ee4009d534c71a41f00db210e7b5e%20%3D%20L.marker%28%0A%20%20%20%20%20%20%20%20%20%20%20%20%20%20%20%20%5B-6.2363373%2C%20106.8010171%5D%2C%0A%20%20%20%20%20%20%20%20%20%20%20%20%20%20%20%20%7B%7D%0A%20%20%20%20%20%20%20%20%20%20%20%20%29.addTo%28map_1d5ac0b9807a49539e5f8f85af0e1dcf%29%3B%0A%20%20%20%20%20%20%20%20%0A%20%20%20%20%0A%20%20%20%20%20%20%20%20%20%20%20%20var%20icon_fd626ac53dbc462a9be10ba6a6d66142%20%3D%20L.AwesomeMarkers.icon%28%0A%20%20%20%20%20%20%20%20%20%20%20%20%20%20%20%20%7B%22extraClasses%22%3A%20%22fa-rotate-0%22%2C%20%22icon%22%3A%20%22info-sign%22%2C%20%22iconColor%22%3A%20%22white%22%2C%20%22markerColor%22%3A%20%22blue%22%2C%20%22prefix%22%3A%20%22glyphicon%22%7D%0A%20%20%20%20%20%20%20%20%20%20%20%20%29%3B%0A%20%20%20%20%20%20%20%20%20%20%20%20marker_f97ee4009d534c71a41f00db210e7b5e.setIcon%28icon_fd626ac53dbc462a9be10ba6a6d66142%29%3B%0A%20%20%20%20%20%20%20%20%0A%20%20%20%20%0A%20%20%20%20%20%20%20%20var%20popup_7dd3eb7cf2f14428bcbcc4dfccd78fdf%20%3D%20L.popup%28%7B%22maxWidth%22%3A%20%22100%25%22%7D%29%3B%0A%0A%20%20%20%20%20%20%20%20%0A%20%20%20%20%20%20%20%20%20%20%20%20var%20html_57424a1207734cd0b356d66f03ad37c6%20%3D%20%24%28%60%3Cdiv%20id%3D%22html_57424a1207734cd0b356d66f03ad37c6%22%20style%3D%22width%3A%20100.0%25%3B%20height%3A%20100.0%25%3B%22%3EOrigin%20Point%3C/div%3E%60%29%5B0%5D%3B%0A%20%20%20%20%20%20%20%20%20%20%20%20popup_7dd3eb7cf2f14428bcbcc4dfccd78fdf.setContent%28html_57424a1207734cd0b356d66f03ad37c6%29%3B%0A%20%20%20%20%20%20%20%20%0A%0A%20%20%20%20%20%20%20%20marker_f97ee4009d534c71a41f00db210e7b5e.bindPopup%28popup_7dd3eb7cf2f14428bcbcc4dfccd78fdf%29%0A%20%20%20%20%20%20%20%20%3B%0A%0A%20%20%20%20%20%20%20%20%0A%20%20%20%20%0A%20%20%20%20%0A%20%20%20%20%20%20%20%20function%20geo_json_4fff4fcb14ec487583e950afdb7c0929_styler%28feature%29%20%7B%0A%20%20%20%20%20%20%20%20%20%20%20%20switch%28feature.id%29%20%7B%0A%20%20%20%20%20%20%20%20%20%20%20%20%20%20%20%20case%20%221%22%3A%20%0A%20%20%20%20%20%20%20%20%20%20%20%20%20%20%20%20%20%20%20%20return%20%7B%22color%22%3A%20%22%23fd8d3c%22%2C%20%22fillColor%22%3A%20%22%23fd8d3c%22%2C%20%22fillOpacity%22%3A%200.5%2C%20%22weight%22%3A%202%7D%3B%0A%20%20%20%20%20%20%20%20%20%20%20%20%20%20%20%20case%20%222%22%3A%20%0A%20%20%20%20%20%20%20%20%20%20%20%20%20%20%20%20%20%20%20%20return%20%7B%22color%22%3A%20%22%23800026%22%2C%20%22fillColor%22%3A%20%22%23800026%22%2C%20%22fillOpacity%22%3A%200.5%2C%20%22weight%22%3A%202%7D%3B%0A%20%20%20%20%20%20%20%20%20%20%20%20%20%20%20%20default%3A%0A%20%20%20%20%20%20%20%20%20%20%20%20%20%20%20%20%20%20%20%20return%20%7B%22color%22%3A%20%22%23ffffcc%22%2C%20%22fillColor%22%3A%20%22%23ffffcc%22%2C%20%22fillOpacity%22%3A%200.5%2C%20%22weight%22%3A%202%7D%3B%0A%20%20%20%20%20%20%20%20%20%20%20%20%7D%0A%20%20%20%20%20%20%20%20%7D%0A%20%20%20%20%20%20%20%20function%20geo_json_4fff4fcb14ec487583e950afdb7c0929_highlighter%28feature%29%20%7B%0A%20%20%20%20%20%20%20%20%20%20%20%20switch%28feature.id%29%20%7B%0A%20%20%20%20%20%20%20%20%20%20%20%20%20%20%20%20default%3A%0A%20%20%20%20%20%20%20%20%20%20%20%20%20%20%20%20%20%20%20%20return%20%7B%22fillOpacity%22%3A%200.75%7D%3B%0A%20%20%20%20%20%20%20%20%20%20%20%20%7D%0A%20%20%20%20%20%20%20%20%7D%0A%20%20%20%20%20%20%20%20function%20geo_json_4fff4fcb14ec487583e950afdb7c0929_pointToLayer%28feature%2C%20latlng%29%20%7B%0A%20%20%20%20%20%20%20%20%20%20%20%20var%20opts%20%3D%20%7B%22bubblingMouseEvents%22%3A%20true%2C%20%22color%22%3A%20%22%233388ff%22%2C%20%22dashArray%22%3A%20null%2C%20%22dashOffset%22%3A%20null%2C%20%22fill%22%3A%20true%2C%20%22fillColor%22%3A%20%22%233388ff%22%2C%20%22fillOpacity%22%3A%200.2%2C%20%22fillRule%22%3A%20%22evenodd%22%2C%20%22lineCap%22%3A%20%22round%22%2C%20%22lineJoin%22%3A%20%22round%22%2C%20%22opacity%22%3A%201.0%2C%20%22radius%22%3A%202%2C%20%22stroke%22%3A%20true%2C%20%22weight%22%3A%203%7D%3B%0A%20%20%20%20%20%20%20%20%20%20%20%20%0A%20%20%20%20%20%20%20%20%20%20%20%20let%20style%20%3D%20geo_json_4fff4fcb14ec487583e950afdb7c0929_styler%28feature%29%0A%20%20%20%20%20%20%20%20%20%20%20%20Object.assign%28opts%2C%20style%29%0A%20%20%20%20%20%20%20%20%20%20%20%20%0A%20%20%20%20%20%20%20%20%20%20%20%20return%20new%20L.CircleMarker%28latlng%2C%20opts%29%0A%20%20%20%20%20%20%20%20%7D%0A%0A%20%20%20%20%20%20%20%20function%20geo_json_4fff4fcb14ec487583e950afdb7c0929_onEachFeature%28feature%2C%20layer%29%20%7B%0A%20%20%20%20%20%20%20%20%20%20%20%20layer.on%28%7B%0A%20%20%20%20%20%20%20%20%20%20%20%20%20%20%20%20mouseout%3A%20function%28e%29%20%7B%0A%20%20%20%20%20%20%20%20%20%20%20%20%20%20%20%20%20%20%20%20if%28typeof%20e.target.setStyle%20%3D%3D%3D%20%22function%22%29%7B%0A%20%20%20%20%20%20%20%20%20%20%20%20%20%20%20%20%20%20%20%20%20%20%20%20geo_json_4fff4fcb14ec487583e950afdb7c0929.resetStyle%28e.target%29%3B%0A%20%20%20%20%20%20%20%20%20%20%20%20%20%20%20%20%20%20%20%20%7D%0A%20%20%20%20%20%20%20%20%20%20%20%20%20%20%20%20%7D%2C%0A%20%20%20%20%20%20%20%20%20%20%20%20%20%20%20%20mouseover%3A%20function%28e%29%20%7B%0A%20%20%20%20%20%20%20%20%20%20%20%20%20%20%20%20%20%20%20%20if%28typeof%20e.target.setStyle%20%3D%3D%3D%20%22function%22%29%7B%0A%20%20%20%20%20%20%20%20%20%20%20%20%20%20%20%20%20%20%20%20%20%20%20%20const%20highlightStyle%20%3D%20geo_json_4fff4fcb14ec487583e950afdb7c0929_highlighter%28e.target.feature%29%0A%20%20%20%20%20%20%20%20%20%20%20%20%20%20%20%20%20%20%20%20%20%20%20%20e.target.setStyle%28highlightStyle%29%3B%0A%20%20%20%20%20%20%20%20%20%20%20%20%20%20%20%20%20%20%20%20%7D%0A%20%20%20%20%20%20%20%20%20%20%20%20%20%20%20%20%7D%2C%0A%20%20%20%20%20%20%20%20%20%20%20%20%7D%29%3B%0A%20%20%20%20%20%20%20%20%7D%3B%0A%20%20%20%20%20%20%20%20var%20geo_json_4fff4fcb14ec487583e950afdb7c0929%20%3D%20L.geoJson%28null%2C%20%7B%0A%20%20%20%20%20%20%20%20%20%20%20%20%20%20%20%20onEachFeature%3A%20geo_json_4fff4fcb14ec487583e950afdb7c0929_onEachFeature%2C%0A%20%20%20%20%20%20%20%20%20%20%20%20%0A%20%20%20%20%20%20%20%20%20%20%20%20%20%20%20%20style%3A%20geo_json_4fff4fcb14ec487583e950afdb7c0929_styler%2C%0A%20%20%20%20%20%20%20%20%20%20%20%20%20%20%20%20pointToLayer%3A%20geo_json_4fff4fcb14ec487583e950afdb7c0929_pointToLayer%0A%20%20%20%20%20%20%20%20%7D%29%3B%0A%0A%20%20%20%20%20%20%20%20function%20geo_json_4fff4fcb14ec487583e950afdb7c0929_add%20%28data%29%20%7B%0A%20%20%20%20%20%20%20%20%20%20%20%20geo_json_4fff4fcb14ec487583e950afdb7c0929%0A%20%20%20%20%20%20%20%20%20%20%20%20%20%20%20%20.addData%28data%29%0A%20%20%20%20%20%20%20%20%20%20%20%20%20%20%20%20.addTo%28map_1d5ac0b9807a49539e5f8f85af0e1dcf%29%3B%0A%20%20%20%20%20%20%20%20%7D%0A%20%20%20%20%20%20%20%20%20%20%20%20geo_json_4fff4fcb14ec487583e950afdb7c0929_add%28%7B%22bbox%22%3A%20%5B106.66626%2C%20-6.39679%2C%20106.990356%2C%20-6.091919%5D%2C%20%22features%22%3A%20%5B%7B%22bbox%22%3A%20%5B106.77063%2C%20-6.280746%2C%20106.833801%2C%20-6.193542%5D%2C%20%22geometry%22%3A%20%7B%22coordinates%22%3A%20%5B%5B%5B106.77372%2C%20-6.234741%5D%2C%20%5B106.776123%2C%20-6.234741%5D%2C%20%5B106.778183%2C%20-6.235428%5D%2C%20%5B106.779556%2C%20-6.236801%5D%2C%20%5B106.78093%2C%20-6.236801%5D%2C%20%5B106.781616%2C%20-6.234741%5D%2C%20%5B106.78093%2C%20-6.232681%5D%2C%20%5B106.779556%2C%20-6.231308%5D%2C%20%5B106.77887%2C%20-6.229248%5D%2C%20%5B106.779556%2C%20-6.227188%5D%2C%20%5B106.783676%2C%20-6.223068%5D%2C%20%5B106.785049%2C%20-6.218948%5D%2C%20%5B106.789169%2C%20-6.217575%5D%2C%20%5B106.794662%2C%20-6.212082%5D%2C%20%5B106.795349%2C%20-6.210022%5D%2C%20%5B106.795349%2C%20-6.207275%5D%2C%20%5B106.796036%2C%20-6.205215%5D%2C%20%5B106.797409%2C%20-6.203842%5D%2C%20%5B106.798782%2C%20-6.199722%5D%2C%20%5B106.800156%2C%20-6.199722%5D%2C%20%5B106.804276%2C%20-6.203842%5D%2C%20%5B106.806335%2C%20-6.204529%5D%2C%20%5B106.809082%2C%20-6.204529%5D%2C%20%5B106.811142%2C%20-6.203842%5D%2C%20%5B106.811142%2C%20-6.202469%5D%2C%20%5B106.809769%2C%20-6.201096%5D%2C%20%5B106.809769%2C%20-6.199722%5D%2C%20%5B106.812515%2C%20-6.196976%5D%2C%20%5B106.814575%2C%20-6.196289%5D%2C%20%5B106.816635%2C%20-6.196976%5D%2C%20%5B106.818008%2C%20-6.198349%5D%2C%20%5B106.819382%2C%20-6.198349%5D%2C%20%5B106.820755%2C%20-6.194229%5D%2C%20%5B106.822815%2C%20-6.193542%5D%2C%20%5B106.824875%2C%20-6.194229%5D%2C%20%5B106.825562%2C%20-6.196289%5D%2C%20%5B106.825562%2C%20-6.204529%5D%2C%20%5B106.824875%2C%20-6.206589%5D%2C%20%5B106.823502%2C%20-6.207962%5D%2C%20%5B106.822815%2C%20-6.210022%5D%2C%20%5B106.822815%2C%20-6.218262%5D%2C%20%5B106.823502%2C%20-6.220322%5D%2C%20%5B106.824875%2C%20-6.221695%5D%2C%20%5B106.825562%2C%20-6.223755%5D%2C%20%5B106.824875%2C%20-6.225815%5D%2C%20%5B106.823502%2C%20-6.227188%5D%2C%20%5B106.822815%2C%20-6.229248%5D%2C%20%5B106.823502%2C%20-6.231308%5D%2C%20%5B106.828995%2C%20-6.236801%5D%2C%20%5B106.833115%2C%20-6.238174%5D%2C%20%5B106.833801%2C%20-6.240234%5D%2C%20%5B106.833115%2C%20-6.242294%5D%2C%20%5B106.828995%2C%20-6.243668%5D%2C%20%5B106.826248%2C%20-6.246414%5D%2C%20%5B106.825562%2C%20-6.248474%5D%2C%20%5B106.825562%2C%20-6.253967%5D%2C%20%5B106.824875%2C%20-6.256027%5D%2C%20%5B106.818008%2C%20-6.262894%5D%2C%20%5B106.817322%2C%20-6.264954%5D%2C%20%5B106.817322%2C%20-6.2677%5D%2C%20%5B106.816635%2C%20-6.26976%5D%2C%20%5B106.815262%2C%20-6.271133%5D%2C%20%5B106.813889%2C%20-6.275253%5D%2C%20%5B106.808395%2C%20-6.280746%5D%2C%20%5B106.807022%2C%20-6.280746%5D%2C%20%5B106.805649%2C%20-6.276627%5D%2C%20%5B106.804276%2C%20-6.275253%5D%2C%20%5B106.803589%2C%20-6.273193%5D%2C%20%5B106.803589%2C%20-6.270447%5D%2C%20%5B106.802902%2C%20-6.268387%5D%2C%20%5B106.797409%2C%20-6.262894%5D%2C%20%5B106.795349%2C%20-6.262207%5D%2C%20%5B106.792603%2C%20-6.262207%5D%2C%20%5B106.790543%2C%20-6.262894%5D%2C%20%5B106.789169%2C%20-6.264267%5D%2C%20%5B106.787796%2C%20-6.264267%5D%2C%20%5B106.779556%2C%20-6.256027%5D%2C%20%5B106.77887%2C%20-6.253967%5D%2C%20%5B106.77887%2C%20-6.245728%5D%2C%20%5B106.778183%2C%20-6.243668%5D%2C%20%5B106.776123%2C%20-6.242981%5D%2C%20%5B106.773376%2C%20-6.242981%5D%2C%20%5B106.771317%2C%20-6.242294%5D%2C%20%5B106.77063%2C%20-6.240234%5D%2C%20%5B106.77063%2C%20-6.237488%5D%2C%20%5B106.770973%2C%20-6.235428%5D%2C%20%5B106.772003%2C%20-6.234741%5D%2C%20%5B106.77372%2C%20-6.234741%5D%5D%5D%2C%20%22type%22%3A%20%22Polygon%22%7D%2C%20%22id%22%3A%20%220%22%2C%20%22properties%22%3A%20%7B%22__folium_color%22%3A%20%22%23ffffcc%22%2C%20%22furthest_distance%22%3A%208901%2C%20%22isochrone_id%22%3A%20%2215%20Minutes%22%2C%20%22speed%22%3A%2035.604%2C%20%22travel_time_mins%22%3A%2015%7D%2C%20%22type%22%3A%20%22Feature%22%7D%2C%20%7B%22bbox%22%3A%20%5B106.743164%2C%20-6.314392%2C%20106.880493%2C%20-6.146851%5D%2C%20%22geometry%22%3A%20%7B%22coordinates%22%3A%20%5B%5B%5B106.748657%2C%20-6.215515%5D%2C%20%5B106.750717%2C%20-6.214828%5D%2C%20%5B106.75209%2C%20-6.210709%5D%2C%20%5B106.753464%2C%20-6.209335%5D%2C%20%5B106.754837%2C%20-6.205215%5D%2C%20%5B106.758957%2C%20-6.203842%5D%2C%20%5B106.758957%2C%20-6.202469%5D%2C%20%5B106.754837%2C%20-6.198349%5D%2C%20%5B106.75415%2C%20-6.196289%5D%2C%20%5B106.754837%2C%20-6.194229%5D%2C%20%5B106.758957%2C%20-6.192856%5D%2C%20%5B106.76445%2C%20-6.187363%5D%2C%20%5B106.765823%2C%20-6.183243%5D%2C%20%5B106.767883%2C%20-6.182556%5D%2C%20%5B106.769943%2C%20-6.183243%5D%2C%20%5B106.771317%2C%20-6.184616%5D%2C%20%5B106.773376%2C%20-6.185303%5D%2C%20%5B106.775436%2C%20-6.184616%5D%2C%20%5B106.776123%2C%20-6.182556%5D%2C%20%5B106.776123%2C%20-6.17981%5D%2C%20%5B106.77681%2C%20-6.17775%5D%2C%20%5B106.78093%2C%20-6.17363%5D%2C%20%5B106.782303%2C%20-6.16951%5D%2C%20%5B106.783676%2C%20-6.168137%5D%2C%20%5B106.785049%2C%20-6.164017%5D%2C%20%5B106.787109%2C%20-6.16333%5D%2C%20%5B106.792603%2C%20-6.16333%5D%2C%20%5B106.794662%2C%20-6.162643%5D%2C%20%5B106.796036%2C%20-6.158524%5D%2C%20%5B106.797409%2C%20-6.15715%5D%2C%20%5B106.798782%2C%20-6.15303%5D%2C%20%5B106.800842%2C%20-6.152344%5D%2C%20%5B106.802902%2C%20-6.15303%5D%2C%20%5B106.804276%2C%20-6.154404%5D%2C%20%5B106.805649%2C%20-6.154404%5D%2C%20%5B106.807022%2C%20-6.15303%5D%2C%20%5B106.811142%2C%20-6.151657%5D%2C%20%5B106.815262%2C%20-6.147537%5D%2C%20%5B106.817322%2C%20-6.146851%5D%2C%20%5B106.819382%2C%20-6.147537%5D%2C%20%5B106.820068%2C%20-6.149597%5D%2C%20%5B106.820068%2C%20-6.15509%5D%2C%20%5B106.820755%2C%20-6.15715%5D%2C%20%5B106.822815%2C%20-6.157837%5D%2C%20%5B106.828308%2C%20-6.157837%5D%2C%20%5B106.830368%2C%20-6.158524%5D%2C%20%5B106.831741%2C%20-6.159897%5D%2C%20%5B106.833801%2C%20-6.160583%5D%2C%20%5B106.835861%2C%20-6.159897%5D%2C%20%5B106.837234%2C%20-6.158524%5D%2C%20%5B106.838608%2C%20-6.158524%5D%2C%20%5B106.841354%2C%20-6.16127%5D%2C%20%5B106.842041%2C%20-6.16333%5D%2C%20%5B106.842041%2C%20-6.166077%5D%2C%20%5B106.842728%2C%20-6.168137%5D%2C%20%5B106.846848%2C%20-6.172256%5D%2C%20%5B106.847534%2C%20-6.174316%5D%2C%20%5B106.847534%2C%20-6.177063%5D%2C%20%5B106.846848%2C%20-6.179123%5D%2C%20%5B106.845474%2C%20-6.180496%5D%2C%20%5B106.845474%2C%20-6.18187%5D%2C%20%5B106.849594%2C%20-6.185989%5D%2C%20%5B106.850967%2C%20-6.190109%5D%2C%20%5B106.853027%2C%20-6.190796%5D%2C%20%5B106.861267%2C%20-6.190796%5D%2C%20%5B106.863327%2C%20-6.191483%5D%2C%20%5B106.864014%2C%20-6.193542%5D%2C%20%5B106.863327%2C%20-6.195602%5D%2C%20%5B106.861954%2C%20-6.196976%5D%2C%20%5B106.861954%2C%20-6.198349%5D%2C%20%5B106.863327%2C%20-6.199722%5D%2C%20%5B106.864014%2C%20-6.201782%5D%2C%20%5B106.863327%2C%20-6.203842%5D%2C%20%5B106.861954%2C%20-6.205215%5D%2C%20%5B106.86058%2C%20-6.209335%5D%2C%20%5B106.858521%2C%20-6.210022%5D%2C%20%5B106.856461%2C%20-6.209335%5D%2C%20%5B106.855087%2C%20-6.207962%5D%2C%20%5B106.853714%2C%20-6.207962%5D%2C%20%5B106.853027%2C%20-6.210022%5D%2C%20%5B106.853027%2C%20-6.212769%5D%2C%20%5B106.853714%2C%20-6.214828%5D%2C%20%5B106.859207%2C%20-6.220322%5D%2C%20%5B106.863327%2C%20-6.221695%5D%2C%20%5B106.866074%2C%20-6.224442%5D%2C%20%5B106.866074%2C%20-6.225815%5D%2C%20%5B106.861954%2C%20-6.229935%5D%2C%20%5B106.861954%2C%20-6.231308%5D%2C%20%5B106.864014%2C%20-6.231995%5D%2C%20%5B106.86676%2C%20-6.231995%5D%2C%20%5B106.86882%2C%20-6.232681%5D%2C%20%5B106.871567%2C%20-6.235428%5D%2C%20%5B106.87294%2C%20-6.239548%5D%2C%20%5B106.87706%2C%20-6.240921%5D%2C%20%5B106.879807%2C%20-6.243668%5D%2C%20%5B106.880493%2C%20-6.245728%5D%2C%20%5B106.880493%2C%20-6.248474%5D%2C%20%5B106.879807%2C%20-6.250534%5D%2C%20%5B106.877747%2C%20-6.251221%5D%2C%20%5B106.872253%2C%20-6.251221%5D%2C%20%5B106.870193%2C%20-6.251907%5D%2C%20%5B106.86882%2C%20-6.253281%5D%2C%20%5B106.86676%2C%20-6.253967%5D%2C%20%5B106.864014%2C%20-6.253967%5D%2C%20%5B106.861954%2C%20-6.254654%5D%2C%20%5B106.861954%2C%20-6.256027%5D%2C%20%5B106.863327%2C%20-6.257401%5D%2C%20%5B106.864014%2C%20-6.25946%5D%2C%20%5B106.863327%2C%20-6.26152%5D%2C%20%5B106.859207%2C%20-6.262894%5D%2C%20%5B106.857834%2C%20-6.264267%5D%2C%20%5B106.853714%2C%20-6.26564%5D%2C%20%5B106.852341%2C%20-6.26976%5D%2C%20%5B106.850967%2C%20-6.271133%5D%2C%20%5B106.850281%2C%20-6.273193%5D%2C%20%5B106.850281%2C%20-6.27594%5D%2C%20%5B106.849594%2C%20-6.278%5D%2C%20%5B106.848221%2C%20-6.279373%5D%2C%20%5B106.847534%2C%20-6.281433%5D%2C%20%5B106.847534%2C%20-6.286926%5D%2C%20%5B106.846848%2C%20-6.288986%5D%2C%20%5B106.844788%2C%20-6.289673%5D%2C%20%5B106.842041%2C%20-6.289673%5D%2C%20%5B106.839981%2C%20-6.290359%5D%2C%20%5B106.834488%2C%20-6.295853%5D%2C%20%5B106.834488%2C%20-6.297226%5D%2C%20%5B106.835861%2C%20-6.298599%5D%2C%20%5B106.835861%2C%20-6.299973%5D%2C%20%5B106.833801%2C%20-6.300659%5D%2C%20%5B106.828308%2C%20-6.300659%5D%2C%20%5B106.826248%2C%20-6.301346%5D%2C%20%5B106.822128%2C%20-6.305466%5D%2C%20%5B106.820068%2C%20-6.306152%5D%2C%20%5B106.814575%2C%20-6.306152%5D%2C%20%5B106.812515%2C%20-6.306839%5D%2C%20%5B106.809769%2C%20-6.309586%5D%2C%20%5B106.808395%2C%20-6.313705%5D%2C%20%5B106.806335%2C%20-6.314392%5D%2C%20%5B106.803589%2C%20-6.314392%5D%2C%20%5B106.801529%2C%20-6.313705%5D%2C%20%5B106.800156%2C%20-6.312332%5D%2C%20%5B106.798096%2C%20-6.311646%5D%2C%20%5B106.792603%2C%20-6.311646%5D%2C%20%5B106.790543%2C%20-6.310959%5D%2C%20%5B106.787796%2C%20-6.308212%5D%2C%20%5B106.786423%2C%20-6.304092%5D%2C%20%5B106.78093%2C%20-6.298599%5D%2C%20%5B106.77681%2C%20-6.297226%5D%2C%20%5B106.77269%2C%20-6.293106%5D%2C%20%5B106.77063%2C%20-6.292419%5D%2C%20%5B106.767883%2C%20-6.292419%5D%2C%20%5B106.765823%2C%20-6.291733%5D%2C%20%5B106.76445%2C%20-6.287613%5D%2C%20%5B106.763077%2C%20-6.28624%5D%2C%20%5B106.761703%2C%20-6.28212%5D%2C%20%5B106.76033%2C%20-6.280746%5D%2C%20%5B106.759644%2C%20-6.278687%5D%2C%20%5B106.759644%2C%20-6.273193%5D%2C%20%5B106.758957%2C%20-6.271133%5D%2C%20%5B106.754837%2C%20-6.267014%5D%2C%20%5B106.75415%2C%20-6.264954%5D%2C%20%5B106.754837%2C%20-6.262894%5D%2C%20%5B106.75621%2C%20-6.26152%5D%2C%20%5B106.756897%2C%20-6.25946%5D%2C%20%5B106.756897%2C%20-6.256714%5D%2C%20%5B106.75621%2C%20-6.254654%5D%2C%20%5B106.75209%2C%20-6.250534%5D%2C%20%5B106.750717%2C%20-6.246414%5D%2C%20%5B106.746597%2C%20-6.245041%5D%2C%20%5B106.745911%2C%20-6.242981%5D%2C%20%5B106.745911%2C%20-6.240234%5D%2C%20%5B106.745224%2C%20-6.238174%5D%2C%20%5B106.743851%2C%20-6.236801%5D%2C%20%5B106.743851%2C%20-6.235428%5D%2C%20%5B106.745224%2C%20-6.234055%5D%2C%20%5B106.745224%2C%20-6.232681%5D%2C%20%5B106.743851%2C%20-6.231308%5D%2C%20%5B106.743164%2C%20-6.229248%5D%2C%20%5B106.743164%2C%20-6.226501%5D%2C%20%5B106.743851%2C%20-6.224442%5D%2C%20%5B106.747971%2C%20-6.223068%5D%2C%20%5B106.747971%2C%20-6.221695%5D%2C%20%5B106.743851%2C%20-6.220322%5D%2C%20%5B106.743164%2C%20-6.218262%5D%2C%20%5B106.743507%2C%20-6.216202%5D%2C%20%5B106.744537%2C%20-6.215515%5D%2C%20%5B106.746254%2C%20-6.215515%5D%2C%20%5B106.748657%2C%20-6.215515%5D%5D%2C%20%5B%5B106.772003%2C%20-6.234741%5D%2C%20%5B106.770973%2C%20-6.235428%5D%2C%20%5B106.77063%2C%20-6.237488%5D%2C%20%5B106.77063%2C%20-6.240234%5D%2C%20%5B106.771317%2C%20-6.242294%5D%2C%20%5B106.773376%2C%20-6.242981%5D%2C%20%5B106.776123%2C%20-6.242981%5D%2C%20%5B106.778183%2C%20-6.243668%5D%2C%20%5B106.77887%2C%20-6.245728%5D%2C%20%5B106.77887%2C%20-6.253967%5D%2C%20%5B106.779556%2C%20-6.256027%5D%2C%20%5B106.787796%2C%20-6.264267%5D%2C%20%5B106.789169%2C%20-6.264267%5D%2C%20%5B106.790543%2C%20-6.262894%5D%2C%20%5B106.792603%2C%20-6.262207%5D%2C%20%5B106.795349%2C%20-6.262207%5D%2C%20%5B106.797409%2C%20-6.262894%5D%2C%20%5B106.802902%2C%20-6.268387%5D%2C%20%5B106.803589%2C%20-6.270447%5D%2C%20%5B106.803589%2C%20-6.273193%5D%2C%20%5B106.804276%2C%20-6.275253%5D%2C%20%5B106.805649%2C%20-6.276627%5D%2C%20%5B106.807022%2C%20-6.280746%5D%2C%20%5B106.808395%2C%20-6.280746%5D%2C%20%5B106.813889%2C%20-6.275253%5D%2C%20%5B106.815262%2C%20-6.271133%5D%2C%20%5B106.816635%2C%20-6.26976%5D%2C%20%5B106.817322%2C%20-6.2677%5D%2C%20%5B106.817322%2C%20-6.264954%5D%2C%20%5B106.818008%2C%20-6.262894%5D%2C%20%5B106.824875%2C%20-6.256027%5D%2C%20%5B106.825562%2C%20-6.253967%5D%2C%20%5B106.825562%2C%20-6.248474%5D%2C%20%5B106.826248%2C%20-6.246414%5D%2C%20%5B106.828995%2C%20-6.243668%5D%2C%20%5B106.833115%2C%20-6.242294%5D%2C%20%5B106.833801%2C%20-6.240234%5D%2C%20%5B106.833115%2C%20-6.238174%5D%2C%20%5B106.828995%2C%20-6.236801%5D%2C%20%5B106.823502%2C%20-6.231308%5D%2C%20%5B106.822815%2C%20-6.229248%5D%2C%20%5B106.823502%2C%20-6.227188%5D%2C%20%5B106.824875%2C%20-6.225815%5D%2C%20%5B106.825562%2C%20-6.223755%5D%2C%20%5B106.824875%2C%20-6.221695%5D%2C%20%5B106.823502%2C%20-6.220322%5D%2C%20%5B106.822815%2C%20-6.218262%5D%2C%20%5B106.822815%2C%20-6.210022%5D%2C%20%5B106.823502%2C%20-6.207962%5D%2C%20%5B106.824875%2C%20-6.206589%5D%2C%20%5B106.825562%2C%20-6.204529%5D%2C%20%5B106.825562%2C%20-6.196289%5D%2C%20%5B106.824875%2C%20-6.194229%5D%2C%20%5B106.822815%2C%20-6.193542%5D%2C%20%5B106.820755%2C%20-6.194229%5D%2C%20%5B106.819382%2C%20-6.198349%5D%2C%20%5B106.818008%2C%20-6.198349%5D%2C%20%5B106.816635%2C%20-6.196976%5D%2C%20%5B106.814575%2C%20-6.196289%5D%2C%20%5B106.812515%2C%20-6.196976%5D%2C%20%5B106.809769%2C%20-6.199722%5D%2C%20%5B106.809769%2C%20-6.201096%5D%2C%20%5B106.811142%2C%20-6.202469%5D%2C%20%5B106.811142%2C%20-6.203842%5D%2C%20%5B106.809082%2C%20-6.204529%5D%2C%20%5B106.806335%2C%20-6.204529%5D%2C%20%5B106.804276%2C%20-6.203842%5D%2C%20%5B106.800156%2C%20-6.199722%5D%2C%20%5B106.798782%2C%20-6.199722%5D%2C%20%5B106.797409%2C%20-6.203842%5D%2C%20%5B106.796036%2C%20-6.205215%5D%2C%20%5B106.795349%2C%20-6.207275%5D%2C%20%5B106.795349%2C%20-6.210022%5D%2C%20%5B106.794662%2C%20-6.212082%5D%2C%20%5B106.789169%2C%20-6.217575%5D%2C%20%5B106.785049%2C%20-6.218948%5D%2C%20%5B106.783676%2C%20-6.223068%5D%2C%20%5B106.779556%2C%20-6.227188%5D%2C%20%5B106.77887%2C%20-6.229248%5D%2C%20%5B106.779556%2C%20-6.231308%5D%2C%20%5B106.78093%2C%20-6.232681%5D%2C%20%5B106.781616%2C%20-6.234741%5D%2C%20%5B106.78093%2C%20-6.236801%5D%2C%20%5B106.779556%2C%20-6.236801%5D%2C%20%5B106.778183%2C%20-6.235428%5D%2C%20%5B106.776123%2C%20-6.234741%5D%2C%20%5B106.77372%2C%20-6.234741%5D%2C%20%5B106.772003%2C%20-6.234741%5D%5D%5D%2C%20%22type%22%3A%20%22Polygon%22%7D%2C%20%22id%22%3A%20%221%22%2C%20%22properties%22%3A%20%7B%22__folium_color%22%3A%20%22%23fd8d3c%22%2C%20%22furthest_distance%22%3A%2019130%2C%20%22isochrone_id%22%3A%20%2230%20Minutes%22%2C%20%22speed%22%3A%2038.26%2C%20%22travel_time_mins%22%3A%2030%7D%2C%20%22type%22%3A%20%22Feature%22%7D%2C%20%7B%22bbox%22%3A%20%5B106.66626%2C%20-6.39679%2C%20106.990356%2C%20-6.091919%5D%2C%20%22geometry%22%3A%20%7B%22coordinates%22%3A%20%5B%5B%5B106.671066%2C%20-6.212082%5D%2C%20%5B106.67244%2C%20-6.207962%5D%2C%20%5B106.676559%2C%20-6.203842%5D%2C%20%5B106.677246%2C%20-6.201782%5D%2C%20%5B106.677246%2C%20-6.199036%5D%2C%20%5B106.677933%2C%20-6.196976%5D%2C%20%5B106.682053%2C%20-6.195602%5D%2C%20%5B106.683426%2C%20-6.194229%5D%2C%20%5B106.685486%2C%20-6.193542%5D%2C%20%5B106.690979%2C%20-6.193542%5D%2C%20%5B106.693039%2C%20-6.192856%5D%2C%20%5B106.693039%2C%20-6.191483%5D%2C%20%5B106.691666%2C%20-6.190109%5D%2C%20%5B106.690979%2C%20-6.188049%5D%2C%20%5B106.691666%2C%20-6.185989%5D%2C%20%5B106.693039%2C%20-6.184616%5D%2C%20%5B106.693726%2C%20-6.182556%5D%2C%20%5B106.693726%2C%20-6.17981%5D%2C%20%5B106.694412%2C%20-6.17775%5D%2C%20%5B106.695786%2C%20-6.176376%5D%2C%20%5B106.695786%2C%20-6.175003%5D%2C%20%5B106.693039%2C%20-6.172256%5D%2C%20%5B106.688919%2C%20-6.170883%5D%2C%20%5B106.687546%2C%20-6.16951%5D%2C%20%5B106.685486%2C%20-6.168823%5D%2C%20%5B106.679993%2C%20-6.168823%5D%2C%20%5B106.677933%2C%20-6.168137%5D%2C%20%5B106.675186%2C%20-6.16539%5D%2C%20%5B106.6745%2C%20-6.16333%5D%2C%20%5B106.6745%2C%20-6.160583%5D%2C%20%5B106.675186%2C%20-6.158524%5D%2C%20%5B106.679306%2C%20-6.15715%5D%2C%20%5B106.680679%2C%20-6.155777%5D%2C%20%5B106.682739%2C%20-6.15509%5D%2C%20%5B106.685486%2C%20-6.15509%5D%2C%20%5B106.687546%2C%20-6.154404%5D%2C%20%5B106.693039%2C%20-6.148911%5D%2C%20%5B106.694412%2C%20-6.144791%5D%2C%20%5B106.698532%2C%20-6.140671%5D%2C%20%5B106.699219%2C%20-6.138611%5D%2C%20%5B106.699219%2C%20-6.135864%5D%2C%20%5B106.699905%2C%20-6.133804%5D%2C%20%5B106.701965%2C%20-6.133118%5D%2C%20%5B106.707458%2C%20-6.133118%5D%2C%20%5B106.709518%2C%20-6.132431%5D%2C%20%5B106.710892%2C%20-6.128311%5D%2C%20%5B106.713638%2C%20-6.125565%5D%2C%20%5B106.717758%2C%20-6.124191%5D%2C%20%5B106.727371%2C%20-6.114578%5D%2C%20%5B106.729431%2C%20-6.113892%5D%2C%20%5B106.731491%2C%20-6.114578%5D%2C%20%5B106.732864%2C%20-6.115952%5D%2C%20%5B106.734238%2C%20-6.115952%5D%2C%20%5B106.734924%2C%20-6.113892%5D%2C%20%5B106.734924%2C%20-6.111145%5D%2C%20%5B106.735611%2C%20-6.109085%5D%2C%20%5B106.738358%2C%20-6.106339%5D%2C%20%5B106.740417%2C%20-6.105652%5D%2C%20%5B106.743164%2C%20-6.105652%5D%2C%20%5B106.745224%2C%20-6.104965%5D%2C%20%5B106.749344%2C%20-6.100845%5D%2C%20%5B106.751404%2C%20-6.100159%5D%2C%20%5B106.75415%2C%20-6.100159%5D%2C%20%5B106.75621%2C%20-6.100845%5D%2C%20%5B106.757584%2C%20-6.104965%5D%2C%20%5B106.76033%2C%20-6.107712%5D%2C%20%5B106.761703%2C%20-6.107712%5D%2C%20%5B106.763077%2C%20-6.103592%5D%2C%20%5B106.765823%2C%20-6.100845%5D%2C%20%5B106.767883%2C%20-6.100159%5D%2C%20%5B106.769943%2C%20-6.100845%5D%2C%20%5B106.771317%2C%20-6.102219%5D%2C%20%5B106.775436%2C%20-6.103592%5D%2C%20%5B106.77681%2C%20-6.104965%5D%2C%20%5B106.77887%2C%20-6.105652%5D%2C%20%5B106.784363%2C%20-6.105652%5D%2C%20%5B106.786423%2C%20-6.104965%5D%2C%20%5B106.787109%2C%20-6.102905%5D%2C%20%5B106.787109%2C%20-6.094666%5D%2C%20%5B106.787796%2C%20-6.092606%5D%2C%20%5B106.789856%2C%20-6.091919%5D%2C%20%5B106.795349%2C%20-6.091919%5D%2C%20%5B106.797409%2C%20-6.092606%5D%2C%20%5B106.798782%2C%20-6.096725%5D%2C%20%5B106.800842%2C%20-6.097412%5D%2C%20%5B106.806335%2C%20-6.097412%5D%2C%20%5B106.808395%2C%20-6.098099%5D%2C%20%5B106.809082%2C%20-6.100159%5D%2C%20%5B106.809082%2C%20-6.105652%5D%2C%20%5B106.809769%2C%20-6.107712%5D%2C%20%5B106.811142%2C%20-6.109085%5D%2C%20%5B106.811829%2C%20-6.111145%5D%2C%20%5B106.811142%2C%20-6.113205%5D%2C%20%5B106.809769%2C%20-6.114578%5D%2C%20%5B106.809769%2C%20-6.115952%5D%2C%20%5B106.811829%2C%20-6.116638%5D%2C%20%5B106.813889%2C%20-6.115952%5D%2C%20%5B106.815262%2C%20-6.114578%5D%2C%20%5B106.819382%2C%20-6.113205%5D%2C%20%5B106.820755%2C%20-6.111832%5D%2C%20%5B106.822815%2C%20-6.111145%5D%2C%20%5B106.824875%2C%20-6.111832%5D%2C%20%5B106.826248%2C%20-6.113205%5D%2C%20%5B106.830368%2C%20-6.114578%5D%2C%20%5B106.831741%2C%20-6.115952%5D%2C%20%5B106.835861%2C%20-6.117325%5D%2C%20%5B106.837234%2C%20-6.118698%5D%2C%20%5B106.839294%2C%20-6.119385%5D%2C%20%5B106.841354%2C%20-6.118698%5D%2C%20%5B106.842728%2C%20-6.117325%5D%2C%20%5B106.844788%2C%20-6.116638%5D%2C%20%5B106.847534%2C%20-6.116638%5D%2C%20%5B106.849594%2C%20-6.115952%5D%2C%20%5B106.850967%2C%20-6.114578%5D%2C%20%5B106.855087%2C%20-6.113205%5D%2C%20%5B106.861954%2C%20-6.106339%5D%2C%20%5B106.864014%2C%20-6.105652%5D%2C%20%5B106.869507%2C%20-6.105652%5D%2C%20%5B106.871567%2C%20-6.104965%5D%2C%20%5B106.874313%2C%20-6.102219%5D%2C%20%5B106.875%2C%20-6.100159%5D%2C%20%5B106.875%2C%20-6.094666%5D%2C%20%5B106.875687%2C%20-6.092606%5D%2C%20%5B106.877747%2C%20-6.091919%5D%2C%20%5B106.880493%2C%20-6.091919%5D%2C%20%5B106.882553%2C%20-6.092606%5D%2C%20%5B106.883926%2C%20-6.096725%5D%2C%20%5B106.888046%2C%20-6.098099%5D%2C%20%5B106.88942%2C%20-6.099472%5D%2C%20%5B106.891479%2C%20-6.100159%5D%2C%20%5B106.893539%2C%20-6.099472%5D%2C%20%5B106.894913%2C%20-6.098099%5D%2C%20%5B106.896973%2C%20-6.097412%5D%2C%20%5B106.905212%2C%20-6.097412%5D%2C%20%5B106.907272%2C%20-6.098099%5D%2C%20%5B106.908646%2C%20-6.102219%5D%2C%20%5B106.910706%2C%20-6.102905%5D%2C%20%5B106.916199%2C%20-6.102905%5D%2C%20%5B106.918259%2C%20-6.103592%5D%2C%20%5B106.918945%2C%20-6.105652%5D%2C%20%5B106.918945%2C%20-6.108398%5D%2C%20%5B106.918259%2C%20-6.110458%5D%2C%20%5B106.915512%2C%20-6.113205%5D%2C%20%5B106.911392%2C%20-6.114578%5D%2C%20%5B106.911392%2C%20-6.115952%5D%2C%20%5B106.923752%2C%20-6.128311%5D%2C%20%5B106.925125%2C%20-6.132431%5D%2C%20%5B106.926498%2C%20-6.133804%5D%2C%20%5B106.927872%2C%20-6.137924%5D%2C%20%5B106.929245%2C%20-6.139297%5D%2C%20%5B106.930618%2C%20-6.143417%5D%2C%20%5B106.932678%2C%20-6.144104%5D%2C%20%5B106.934738%2C%20-6.143417%5D%2C%20%5B106.936111%2C%20-6.142044%5D%2C%20%5B106.938171%2C%20-6.141357%5D%2C%20%5B106.940918%2C%20-6.141357%5D%2C%20%5B106.942978%2C%20-6.142044%5D%2C%20%5B106.944351%2C%20-6.146164%5D%2C%20%5B106.945724%2C%20-6.147537%5D%2C%20%5B106.945724%2C%20-6.148911%5D%2C%20%5B106.944351%2C%20-6.150284%5D%2C%20%5B106.943665%2C%20-6.152344%5D%2C%20%5B106.944351%2C%20-6.154404%5D%2C%20%5B106.945724%2C%20-6.155777%5D%2C%20%5B106.946411%2C%20-6.157837%5D%2C%20%5B106.946411%2C%20-6.16333%5D%2C%20%5B106.947098%2C%20-6.16539%5D%2C%20%5B106.949158%2C%20-6.166077%5D%2C%20%5B106.957397%2C%20-6.166077%5D%2C%20%5B106.959457%2C%20-6.166763%5D%2C%20%5B106.960144%2C%20-6.168823%5D%2C%20%5B106.960144%2C%20-6.17157%5D%2C%20%5B106.960831%2C%20-6.17363%5D%2C%20%5B106.962204%2C%20-6.175003%5D%2C%20%5B106.963577%2C%20-6.179123%5D%2C%20%5B106.967697%2C%20-6.183243%5D%2C%20%5B106.968384%2C%20-6.185303%5D%2C%20%5B106.968384%2C%20-6.193542%5D%2C%20%5B106.96907%2C%20-6.195602%5D%2C%20%5B106.970444%2C%20-6.196976%5D%2C%20%5B106.97113%2C%20-6.199036%5D%2C%20%5B106.970444%2C%20-6.201096%5D%2C%20%5B106.96907%2C%20-6.202469%5D%2C%20%5B106.96907%2C%20-6.203842%5D%2C%20%5B106.970444%2C%20-6.205215%5D%2C%20%5B106.971817%2C%20-6.209335%5D%2C%20%5B106.974564%2C%20-6.212082%5D%2C%20%5B106.978683%2C%20-6.213455%5D%2C%20%5B106.97937%2C%20-6.215515%5D%2C%20%5B106.97937%2C%20-6.218262%5D%2C%20%5B106.980057%2C%20-6.220322%5D%2C%20%5B106.984177%2C%20-6.224442%5D%2C%20%5B106.984863%2C%20-6.226501%5D%2C%20%5B106.984177%2C%20-6.228561%5D%2C%20%5B106.980057%2C%20-6.229935%5D%2C%20%5B106.97731%2C%20-6.232681%5D%2C%20%5B106.976624%2C%20-6.234741%5D%2C%20%5B106.97731%2C%20-6.236801%5D%2C%20%5B106.98143%2C%20-6.238174%5D%2C%20%5B106.98967%2C%20-6.246414%5D%2C%20%5B106.990356%2C%20-6.248474%5D%2C%20%5B106.98967%2C%20-6.250534%5D%2C%20%5B106.986923%2C%20-6.253281%5D%2C%20%5B106.982803%2C%20-6.254654%5D%2C%20%5B106.98143%2C%20-6.256027%5D%2C%20%5B106.97731%2C%20-6.257401%5D%2C%20%5B106.97319%2C%20-6.26152%5D%2C%20%5B106.97113%2C%20-6.262207%5D%2C%20%5B106.962891%2C%20-6.262207%5D%2C%20%5B106.960831%2C%20-6.262894%5D%2C%20%5B106.959457%2C%20-6.267014%5D%2C%20%5B106.955338%2C%20-6.268387%5D%2C%20%5B106.953964%2C%20-6.272507%5D%2C%20%5B106.948471%2C%20-6.278%5D%2C%20%5B106.944351%2C%20-6.279373%5D%2C%20%5B106.934738%2C%20-6.288986%5D%2C%20%5B106.930618%2C%20-6.290359%5D%2C%20%5B106.925125%2C%20-6.295853%5D%2C%20%5B106.924438%2C%20-6.297913%5D%2C%20%5B106.925125%2C%20-6.299973%5D%2C%20%5B106.926498%2C%20-6.301346%5D%2C%20%5B106.927185%2C%20-6.303406%5D%2C%20%5B106.927185%2C%20-6.306152%5D%2C%20%5B106.926498%2C%20-6.308212%5D%2C%20%5B106.925125%2C%20-6.309586%5D%2C%20%5B106.924438%2C%20-6.311646%5D%2C%20%5B106.925125%2C%20-6.313705%5D%2C%20%5B106.926498%2C%20-6.315079%5D%2C%20%5B106.927185%2C%20-6.317139%5D%2C%20%5B106.927185%2C%20-6.319885%5D%2C%20%5B106.926498%2C%20-6.321945%5D%2C%20%5B106.925125%2C%20-6.323318%5D%2C%20%5B106.923752%2C%20-6.327438%5D%2C%20%5B106.921692%2C%20-6.328125%5D%2C%20%5B106.913452%2C%20-6.328125%5D%2C%20%5B106.911392%2C%20-6.328812%5D%2C%20%5B106.907272%2C%20-6.332932%5D%2C%20%5B106.905212%2C%20-6.333618%5D%2C%20%5B106.902466%2C%20-6.333618%5D%2C%20%5B106.900406%2C%20-6.334305%5D%2C%20%5B106.899033%2C%20-6.335678%5D%2C%20%5B106.894913%2C%20-6.337051%5D%2C%20%5B106.892166%2C%20-6.339798%5D%2C%20%5B106.890793%2C%20-6.343918%5D%2C%20%5B106.888733%2C%20-6.344604%5D%2C%20%5B106.885986%2C%20-6.344604%5D%2C%20%5B106.883926%2C%20-6.345291%5D%2C%20%5B106.88118%2C%20-6.348038%5D%2C%20%5B106.880493%2C%20-6.350098%5D%2C%20%5B106.880493%2C%20-6.352844%5D%2C%20%5B106.879807%2C%20-6.354904%5D%2C%20%5B106.877747%2C%20-6.355591%5D%2C%20%5B106.875%2C%20-6.355591%5D%2C%20%5B106.87294%2C%20-6.356277%5D%2C%20%5B106.871567%2C%20-6.357651%5D%2C%20%5B106.867447%2C%20-6.359024%5D%2C%20%5B106.86676%2C%20-6.361084%5D%2C%20%5B106.86676%2C%20-6.363831%5D%2C%20%5B106.866074%2C%20-6.365891%5D%2C%20%5B106.8647%2C%20-6.367264%5D%2C%20%5B106.863327%2C%20-6.371384%5D%2C%20%5B106.859207%2C%20-6.375504%5D%2C%20%5B106.858521%2C%20-6.377563%5D%2C%20%5B106.858521%2C%20-6.38031%5D%2C%20%5B106.857834%2C%20-6.38237%5D%2C%20%5B106.855087%2C%20-6.385117%5D%2C%20%5B106.853714%2C%20-6.385117%5D%2C%20%5B106.852341%2C%20-6.383743%5D%2C%20%5B106.850281%2C%20-6.383057%5D%2C%20%5B106.842041%2C%20-6.383057%5D%2C%20%5B106.839981%2C%20-6.383743%5D%2C%20%5B106.839294%2C%20-6.385803%5D%2C%20%5B106.839294%2C%20-6.38855%5D%2C%20%5B106.838608%2C%20-6.39061%5D%2C%20%5B106.835861%2C%20-6.393356%5D%2C%20%5B106.831741%2C%20-6.39473%5D%2C%20%5B106.830368%2C%20-6.396103%5D%2C%20%5B106.828308%2C%20-6.39679%5D%2C%20%5B106.822815%2C%20-6.39679%5D%2C%20%5B106.820755%2C%20-6.396103%5D%2C%20%5B106.816635%2C%20-6.391983%5D%2C%20%5B106.815262%2C%20-6.391983%5D%2C%20%5B106.813889%2C%20-6.393356%5D%2C%20%5B106.811829%2C%20-6.394043%5D%2C%20%5B106.803589%2C%20-6.394043%5D%2C%20%5B106.801529%2C%20-6.393356%5D%2C%20%5B106.800156%2C%20-6.391983%5D%2C%20%5B106.798782%2C%20-6.391983%5D%2C%20%5B106.797409%2C%20-6.393356%5D%2C%20%5B106.795349%2C%20-6.394043%5D%2C%20%5B106.792603%2C%20-6.394043%5D%2C%20%5B106.790543%2C%20-6.393356%5D%2C%20%5B106.789169%2C%20-6.391983%5D%2C%20%5B106.785049%2C%20-6.39061%5D%2C%20%5B106.782303%2C%20-6.387863%5D%2C%20%5B106.781616%2C%20-6.385803%5D%2C%20%5B106.781616%2C%20-6.383057%5D%2C%20%5B106.78093%2C%20-6.380997%5D%2C%20%5B106.77887%2C%20-6.38031%5D%2C%20%5B106.773376%2C%20-6.38031%5D%2C%20%5B106.771317%2C%20-6.379623%5D%2C%20%5B106.767197%2C%20-6.375504%5D%2C%20%5B106.765823%2C%20-6.375504%5D%2C%20%5B106.76445%2C%20-6.376877%5D%2C%20%5B106.76239%2C%20-6.377563%5D%2C%20%5B106.759644%2C%20-6.377563%5D%2C%20%5B106.757584%2C%20-6.376877%5D%2C%20%5B106.75621%2C%20-6.372757%5D%2C%20%5B106.754837%2C%20-6.371384%5D%2C%20%5B106.75415%2C%20-6.369324%5D%2C%20%5B106.75415%2C%20-6.366577%5D%2C%20%5B106.753464%2C%20-6.364517%5D%2C%20%5B106.75209%2C%20-6.364517%5D%2C%20%5B106.750717%2C%20-6.365891%5D%2C%20%5B106.748657%2C%20-6.366577%5D%2C%20%5B106.746597%2C%20-6.365891%5D%2C%20%5B106.745224%2C%20-6.364517%5D%2C%20%5B106.741104%2C%20-6.363144%5D%2C%20%5B106.739731%2C%20-6.359024%5D%2C%20%5B106.735611%2C%20-6.357651%5D%2C%20%5B106.719131%2C%20-6.341171%5D%2C%20%5B106.718445%2C%20-6.339111%5D%2C%20%5B106.718445%2C%20-6.319885%5D%2C%20%5B106.717758%2C%20-6.317825%5D%2C%20%5B106.715698%2C%20-6.317139%5D%2C%20%5B106.712952%2C%20-6.317139%5D%2C%20%5B106.710892%2C%20-6.316452%5D%2C%20%5B106.705399%2C%20-6.310959%5D%2C%20%5B106.704025%2C%20-6.308899%5D%2C%20%5B106.701965%2C%20-6.306839%5D%2C%20%5B106.699905%2C%20-6.305466%5D%2C%20%5B106.698532%2C%20-6.304092%5D%2C%20%5B106.694412%2C%20-6.302719%5D%2C%20%5B106.693726%2C%20-6.300659%5D%2C%20%5B106.693726%2C%20-6.297913%5D%2C%20%5B106.693039%2C%20-6.295853%5D%2C%20%5B106.691666%2C%20-6.294479%5D%2C%20%5B106.690292%2C%20-6.290359%5D%2C%20%5B106.683426%2C%20-6.283493%5D%2C%20%5B106.682739%2C%20-6.281433%5D%2C%20%5B106.682739%2C%20-6.270447%5D%2C%20%5B106.682053%2C%20-6.268387%5D%2C%20%5B106.679306%2C%20-6.26564%5D%2C%20%5B106.677246%2C%20-6.264954%5D%2C%20%5B106.6745%2C%20-6.264954%5D%2C%20%5B106.67244%2C%20-6.264267%5D%2C%20%5B106.671753%2C%20-6.262207%5D%2C%20%5B106.67244%2C%20-6.260147%5D%2C%20%5B106.676559%2C%20-6.256027%5D%2C%20%5B106.676559%2C%20-6.254654%5D%2C%20%5B106.6745%2C%20-6.253967%5D%2C%20%5B106.671753%2C%20-6.253967%5D%2C%20%5B106.669693%2C%20-6.253281%5D%2C%20%5B106.666946%2C%20-6.250534%5D%2C%20%5B106.66626%2C%20-6.248474%5D%2C%20%5B106.66626%2C%20-6.242981%5D%2C%20%5B106.666946%2C%20-6.240921%5D%2C%20%5B106.66832%2C%20-6.239548%5D%2C%20%5B106.669006%2C%20-6.237488%5D%2C%20%5B106.669006%2C%20-6.234741%5D%2C%20%5B106.66832%2C%20-6.232681%5D%2C%20%5B106.666946%2C%20-6.231308%5D%2C%20%5B106.66626%2C%20-6.229248%5D%2C%20%5B106.66626%2C%20-6.215515%5D%2C%20%5B106.666603%2C%20-6.213455%5D%2C%20%5B106.667633%2C%20-6.212769%5D%2C%20%5B106.66935%2C%20-6.212769%5D%2C%20%5B106.671066%2C%20-6.212082%5D%5D%2C%20%5B%5B106.744537%2C%20-6.215515%5D%2C%20%5B106.743507%2C%20-6.216202%5D%2C%20%5B106.743164%2C%20-6.218262%5D%2C%20%5B106.743851%2C%20-6.220322%5D%2C%20%5B106.747971%2C%20-6.221695%5D%2C%20%5B106.747971%2C%20-6.223068%5D%2C%20%5B106.743851%2C%20-6.224442%5D%2C%20%5B106.743164%2C%20-6.226501%5D%2C%20%5B106.743164%2C%20-6.229248%5D%2C%20%5B106.743851%2C%20-6.231308%5D%2C%20%5B106.745224%2C%20-6.232681%5D%2C%20%5B106.745224%2C%20-6.234055%5D%2C%20%5B106.743851%2C%20-6.235428%5D%2C%20%5B106.743851%2C%20-6.236801%5D%2C%20%5B106.745224%2C%20-6.238174%5D%2C%20%5B106.745911%2C%20-6.240234%5D%2C%20%5B106.745911%2C%20-6.242981%5D%2C%20%5B106.746597%2C%20-6.245041%5D%2C%20%5B106.750717%2C%20-6.246414%5D%2C%20%5B106.75209%2C%20-6.250534%5D%2C%20%5B106.75621%2C%20-6.254654%5D%2C%20%5B106.756897%2C%20-6.256714%5D%2C%20%5B106.756897%2C%20-6.25946%5D%2C%20%5B106.75621%2C%20-6.26152%5D%2C%20%5B106.754837%2C%20-6.262894%5D%2C%20%5B106.75415%2C%20-6.264954%5D%2C%20%5B106.754837%2C%20-6.267014%5D%2C%20%5B106.758957%2C%20-6.271133%5D%2C%20%5B106.759644%2C%20-6.273193%5D%2C%20%5B106.759644%2C%20-6.278687%5D%2C%20%5B106.76033%2C%20-6.280746%5D%2C%20%5B106.761703%2C%20-6.28212%5D%2C%20%5B106.763077%2C%20-6.28624%5D%2C%20%5B106.76445%2C%20-6.287613%5D%2C%20%5B106.765823%2C%20-6.291733%5D%2C%20%5B106.767883%2C%20-6.292419%5D%2C%20%5B106.77063%2C%20-6.292419%5D%2C%20%5B106.77269%2C%20-6.293106%5D%2C%20%5B106.77681%2C%20-6.297226%5D%2C%20%5B106.78093%2C%20-6.298599%5D%2C%20%5B106.786423%2C%20-6.304092%5D%2C%20%5B106.787796%2C%20-6.308212%5D%2C%20%5B106.790543%2C%20-6.310959%5D%2C%20%5B106.792603%2C%20-6.311646%5D%2C%20%5B106.798096%2C%20-6.311646%5D%2C%20%5B106.800156%2C%20-6.312332%5D%2C%20%5B106.801529%2C%20-6.313705%5D%2C%20%5B106.803589%2C%20-6.314392%5D%2C%20%5B106.806335%2C%20-6.314392%5D%2C%20%5B106.808395%2C%20-6.313705%5D%2C%20%5B106.809769%2C%20-6.309586%5D%2C%20%5B106.812515%2C%20-6.306839%5D%2C%20%5B106.814575%2C%20-6.306152%5D%2C%20%5B106.820068%2C%20-6.306152%5D%2C%20%5B106.822128%2C%20-6.305466%5D%2C%20%5B106.826248%2C%20-6.301346%5D%2C%20%5B106.828308%2C%20-6.300659%5D%2C%20%5B106.833801%2C%20-6.300659%5D%2C%20%5B106.835861%2C%20-6.299973%5D%2C%20%5B106.835861%2C%20-6.298599%5D%2C%20%5B106.834488%2C%20-6.297226%5D%2C%20%5B106.834488%2C%20-6.295853%5D%2C%20%5B106.839981%2C%20-6.290359%5D%2C%20%5B106.842041%2C%20-6.289673%5D%2C%20%5B106.844788%2C%20-6.289673%5D%2C%20%5B106.846848%2C%20-6.288986%5D%2C%20%5B106.847534%2C%20-6.286926%5D%2C%20%5B106.847534%2C%20-6.281433%5D%2C%20%5B106.848221%2C%20-6.279373%5D%2C%20%5B106.849594%2C%20-6.278%5D%2C%20%5B106.850281%2C%20-6.27594%5D%2C%20%5B106.850281%2C%20-6.273193%5D%2C%20%5B106.850967%2C%20-6.271133%5D%2C%20%5B106.852341%2C%20-6.26976%5D%2C%20%5B106.853714%2C%20-6.26564%5D%2C%20%5B106.857834%2C%20-6.264267%5D%2C%20%5B106.859207%2C%20-6.262894%5D%2C%20%5B106.863327%2C%20-6.26152%5D%2C%20%5B106.864014%2C%20-6.25946%5D%2C%20%5B106.863327%2C%20-6.257401%5D%2C%20%5B106.861954%2C%20-6.256027%5D%2C%20%5B106.861954%2C%20-6.254654%5D%2C%20%5B106.864014%2C%20-6.253967%5D%2C%20%5B106.86676%2C%20-6.253967%5D%2C%20%5B106.86882%2C%20-6.253281%5D%2C%20%5B106.870193%2C%20-6.251907%5D%2C%20%5B106.872253%2C%20-6.251221%5D%2C%20%5B106.877747%2C%20-6.251221%5D%2C%20%5B106.879807%2C%20-6.250534%5D%2C%20%5B106.880493%2C%20-6.248474%5D%2C%20%5B106.880493%2C%20-6.245728%5D%2C%20%5B106.879807%2C%20-6.243668%5D%2C%20%5B106.87706%2C%20-6.240921%5D%2C%20%5B106.87294%2C%20-6.239548%5D%2C%20%5B106.871567%2C%20-6.235428%5D%2C%20%5B106.86882%2C%20-6.232681%5D%2C%20%5B106.86676%2C%20-6.231995%5D%2C%20%5B106.864014%2C%20-6.231995%5D%2C%20%5B106.861954%2C%20-6.231308%5D%2C%20%5B106.861954%2C%20-6.229935%5D%2C%20%5B106.866074%2C%20-6.225815%5D%2C%20%5B106.866074%2C%20-6.224442%5D%2C%20%5B106.863327%2C%20-6.221695%5D%2C%20%5B106.859207%2C%20-6.220322%5D%2C%20%5B106.853714%2C%20-6.214828%5D%2C%20%5B106.853027%2C%20-6.212769%5D%2C%20%5B106.853027%2C%20-6.210022%5D%2C%20%5B106.853714%2C%20-6.207962%5D%2C%20%5B106.855087%2C%20-6.207962%5D%2C%20%5B106.856461%2C%20-6.209335%5D%2C%20%5B106.858521%2C%20-6.210022%5D%2C%20%5B106.86058%2C%20-6.209335%5D%2C%20%5B106.861954%2C%20-6.205215%5D%2C%20%5B106.863327%2C%20-6.203842%5D%2C%20%5B106.864014%2C%20-6.201782%5D%2C%20%5B106.863327%2C%20-6.199722%5D%2C%20%5B106.861954%2C%20-6.198349%5D%2C%20%5B106.861954%2C%20-6.196976%5D%2C%20%5B106.863327%2C%20-6.195602%5D%2C%20%5B106.864014%2C%20-6.193542%5D%2C%20%5B106.863327%2C%20-6.191483%5D%2C%20%5B106.861267%2C%20-6.190796%5D%2C%20%5B106.853027%2C%20-6.190796%5D%2C%20%5B106.850967%2C%20-6.190109%5D%2C%20%5B106.849594%2C%20-6.185989%5D%2C%20%5B106.845474%2C%20-6.18187%5D%2C%20%5B106.845474%2C%20-6.180496%5D%2C%20%5B106.846848%2C%20-6.179123%5D%2C%20%5B106.847534%2C%20-6.177063%5D%2C%20%5B106.847534%2C%20-6.174316%5D%2C%20%5B106.846848%2C%20-6.172256%5D%2C%20%5B106.842728%2C%20-6.168137%5D%2C%20%5B106.842041%2C%20-6.166077%5D%2C%20%5B106.842041%2C%20-6.16333%5D%2C%20%5B106.841354%2C%20-6.16127%5D%2C%20%5B106.838608%2C%20-6.158524%5D%2C%20%5B106.837234%2C%20-6.158524%5D%2C%20%5B106.835861%2C%20-6.159897%5D%2C%20%5B106.833801%2C%20-6.160583%5D%2C%20%5B106.831741%2C%20-6.159897%5D%2C%20%5B106.830368%2C%20-6.158524%5D%2C%20%5B106.828308%2C%20-6.157837%5D%2C%20%5B106.822815%2C%20-6.157837%5D%2C%20%5B106.820755%2C%20-6.15715%5D%2C%20%5B106.820068%2C%20-6.15509%5D%2C%20%5B106.820068%2C%20-6.149597%5D%2C%20%5B106.819382%2C%20-6.147537%5D%2C%20%5B106.817322%2C%20-6.146851%5D%2C%20%5B106.815262%2C%20-6.147537%5D%2C%20%5B106.811142%2C%20-6.151657%5D%2C%20%5B106.807022%2C%20-6.15303%5D%2C%20%5B106.805649%2C%20-6.154404%5D%2C%20%5B106.804276%2C%20-6.154404%5D%2C%20%5B106.802902%2C%20-6.15303%5D%2C%20%5B106.800842%2C%20-6.152344%5D%2C%20%5B106.798782%2C%20-6.15303%5D%2C%20%5B106.797409%2C%20-6.15715%5D%2C%20%5B106.796036%2C%20-6.158524%5D%2C%20%5B106.794662%2C%20-6.162643%5D%2C%20%5B106.792603%2C%20-6.16333%5D%2C%20%5B106.787109%2C%20-6.16333%5D%2C%20%5B106.785049%2C%20-6.164017%5D%2C%20%5B106.783676%2C%20-6.168137%5D%2C%20%5B106.782303%2C%20-6.16951%5D%2C%20%5B106.78093%2C%20-6.17363%5D%2C%20%5B106.77681%2C%20-6.17775%5D%2C%20%5B106.776123%2C%20-6.17981%5D%2C%20%5B106.776123%2C%20-6.182556%5D%2C%20%5B106.775436%2C%20-6.184616%5D%2C%20%5B106.773376%2C%20-6.185303%5D%2C%20%5B106.771317%2C%20-6.184616%5D%2C%20%5B106.769943%2C%20-6.183243%5D%2C%20%5B106.767883%2C%20-6.182556%5D%2C%20%5B106.765823%2C%20-6.183243%5D%2C%20%5B106.76445%2C%20-6.187363%5D%2C%20%5B106.758957%2C%20-6.192856%5D%2C%20%5B106.754837%2C%20-6.194229%5D%2C%20%5B106.75415%2C%20-6.196289%5D%2C%20%5B106.754837%2C%20-6.198349%5D%2C%20%5B106.758957%2C%20-6.202469%5D%2C%20%5B106.758957%2C%20-6.203842%5D%2C%20%5B106.754837%2C%20-6.205215%5D%2C%20%5B106.753464%2C%20-6.209335%5D%2C%20%5B106.75209%2C%20-6.210709%5D%2C%20%5B106.750717%2C%20-6.214828%5D%2C%20%5B106.748657%2C%20-6.215515%5D%2C%20%5B106.746254%2C%20-6.215515%5D%2C%20%5B106.744537%2C%20-6.215515%5D%5D%5D%2C%20%22type%22%3A%20%22Polygon%22%7D%2C%20%22id%22%3A%20%222%22%2C%20%22properties%22%3A%20%7B%22__folium_color%22%3A%20%22%23800026%22%2C%20%22furthest_distance%22%3A%2033835%2C%20%22isochrone_id%22%3A%20%2260%20Minutes%22%2C%20%22speed%22%3A%2033.835%2C%20%22travel_time_mins%22%3A%2060%7D%2C%20%22type%22%3A%20%22Feature%22%7D%5D%2C%20%22type%22%3A%20%22FeatureCollection%22%7D%29%3B%0A%0A%20%20%20%20%20%20%20%20%0A%20%20%20%20%0A%20%20%20%20geo_json_4fff4fcb14ec487583e950afdb7c0929.bindTooltip%28%0A%20%20%20%20function%28layer%29%7B%0A%20%20%20%20let%20div%20%3D%20L.DomUtil.create%28%27div%27%29%3B%0A%20%20%20%20%0A%20%20%20%20let%20handleObject%20%3D%20feature%3D%3Etypeof%28feature%29%3D%3D%27object%27%20%3F%20JSON.stringify%28feature%29%20%3A%20feature%3B%0A%20%20%20%20let%20fields%20%3D%20%5B%22travel_time_mins%22%2C%20%22furthest_distance%22%2C%20%22speed%22%5D%3B%0A%20%20%20%20let%20aliases%20%3D%20%5B%22Travel%20Time%20%28mins%29%22%2C%20%22Furthest%20Distance%20%28m%29%22%2C%20%22Average%20Speed%20%28km/h%29%22%5D%3B%0A%20%20%20%20let%20table%20%3D%20%27%3Ctable%3E%27%20%2B%0A%20%20%20%20%20%20%20%20String%28%0A%20%20%20%20%20%20%20%20fields.map%28%0A%20%20%20%20%20%20%20%20%28v%2Ci%29%3D%3E%0A%20%20%20%20%20%20%20%20%60%3Ctr%3E%0A%20%20%20%20%20%20%20%20%20%20%20%20%3Cth%3E%24%7Baliases%5Bi%5D%7D%3C/th%3E%0A%20%20%20%20%20%20%20%20%20%20%20%20%0A%20%20%20%20%20%20%20%20%20%20%20%20%3Ctd%3E%24%7BhandleObject%28layer.feature.properties%5Bv%5D%29%7D%3C/td%3E%0A%20%20%20%20%20%20%20%20%3C/tr%3E%60%29.join%28%27%27%29%29%0A%20%20%20%20%2B%27%3C/table%3E%27%3B%0A%20%20%20%20div.innerHTML%3Dtable%3B%0A%20%20%20%20%0A%20%20%20%20return%20div%0A%20%20%20%20%7D%0A%20%20%20%20%2C%7B%22className%22%3A%20%22foliumtooltip%22%2C%20%22sticky%22%3A%20true%7D%29%3B%0A%20%20%20%20%20%20%20%20%20%20%20%20%20%20%20%20%20%20%20%20%20%0A%3C/script%3E onload=\"this.contentDocument.open();this.contentDocument.write(    decodeURIComponent(this.getAttribute('data-html')));this.contentDocument.close();\" allowfullscreen webkitallowfullscreen mozallowfullscreen></iframe></div></div>"
      ],
      "text/plain": [
       "<folium.folium.Map at 0x15f43d4fb50>"
      ]
     },
     "execution_count": 13,
     "metadata": {},
     "output_type": "execute_result"
    }
   ],
   "source": [
    "# Create map\n",
    "map = folium.Map(\n",
    "    location=origin_point,\n",
    "    zoom_start=11,\n",
    "    tiles='OpenStreetMap'\n",
    ")\n",
    "\n",
    "# Create marker for origion point\n",
    "folium.Marker(\n",
    "    location=origin_point,\n",
    "    icon=folium.Icon('blue'),\n",
    "    popup='Origin Point'\n",
    ").add_to(map)\n",
    "\n",
    "isochrone_map = gdf_isochrone.explore(\n",
    "    column= 'isochrone_id',\n",
    "    tooltip= ['travel_time_mins', 'furthest_distance', 'speed'],\n",
    "    tooltip_kwds = {'aliases': [ 'Travel Time (mins)', 'Furthest Distance (m)', 'Average Speed (km/h)']},\n",
    "    cmap= 'YlOrRd',\n",
    "    m = map,\n",
    "    legend_kwds = {'caption': 'Travel Time'}\n",
    ")\n",
    "\n",
    "map"
   ]
  },
  {
   "cell_type": "code",
   "execution_count": 16,
   "id": "7b18abbf",
   "metadata": {},
   "outputs": [],
   "source": [
    "map.save('isochrone_map.html')"
   ]
  }
 ],
 "metadata": {
  "kernelspec": {
   "display_name": "Python 3",
   "language": "python",
   "name": "python3"
  },
  "language_info": {
   "codemirror_mode": {
    "name": "ipython",
    "version": 3
   },
   "file_extension": ".py",
   "mimetype": "text/x-python",
   "name": "python",
   "nbconvert_exporter": "python",
   "pygments_lexer": "ipython3",
   "version": "3.9.4"
  }
 },
 "nbformat": 4,
 "nbformat_minor": 5
}
